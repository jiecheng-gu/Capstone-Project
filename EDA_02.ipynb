{
 "cells": [
  {
   "cell_type": "code",
   "execution_count": 1,
   "metadata": {},
   "outputs": [],
   "source": [
    "import pandas as pd\n",
    "import numpy as np\n",
    "import seaborn as sns\n",
    "import matplotlib.pyplot as plt"
   ]
  },
  {
   "cell_type": "code",
   "execution_count": 2,
   "metadata": {},
   "outputs": [
    {
     "data": {
      "text/html": [
       "<div>\n",
       "<style scoped>\n",
       "    .dataframe tbody tr th:only-of-type {\n",
       "        vertical-align: middle;\n",
       "    }\n",
       "\n",
       "    .dataframe tbody tr th {\n",
       "        vertical-align: top;\n",
       "    }\n",
       "\n",
       "    .dataframe thead th {\n",
       "        text-align: right;\n",
       "    }\n",
       "</style>\n",
       "<table border=\"1\" class=\"dataframe\">\n",
       "  <thead>\n",
       "    <tr style=\"text-align: right;\">\n",
       "      <th></th>\n",
       "      <th>Ref</th>\n",
       "      <th>Application Ref</th>\n",
       "      <th>Program (ASE)</th>\n",
       "      <th>Entry Term</th>\n",
       "      <th>Degree</th>\n",
       "      <th>Sub-Category</th>\n",
       "      <th>Entry Term.1</th>\n",
       "      <th>Time Status</th>\n",
       "      <th>Tuition Percentage</th>\n",
       "      <th>Decision 1</th>\n",
       "      <th>...</th>\n",
       "      <th>Missing Checklist Items (comma)</th>\n",
       "      <th>Created</th>\n",
       "      <th>Updated</th>\n",
       "      <th>Submitted</th>\n",
       "      <th>App Fee Waiver</th>\n",
       "      <th>App Fee Received Date</th>\n",
       "      <th>App Fee Waived Date</th>\n",
       "      <th>Deposit Waived Date</th>\n",
       "      <th>Deposit Received Date</th>\n",
       "      <th>Deposit Due Date</th>\n",
       "    </tr>\n",
       "  </thead>\n",
       "  <tbody>\n",
       "    <tr>\n",
       "      <th>0</th>\n",
       "      <td>588854023</td>\n",
       "      <td>889525867</td>\n",
       "      <td>Data Science</td>\n",
       "      <td>Fall 2015</td>\n",
       "      <td>Master's</td>\n",
       "      <td>Health and Biomedical Sciences</td>\n",
       "      <td>Fall 2015</td>\n",
       "      <td>Full Time</td>\n",
       "      <td>NaN</td>\n",
       "      <td>Deny</td>\n",
       "      <td>...</td>\n",
       "      <td>Michael Asante, TOEFL or IELTS or PTE Academic</td>\n",
       "      <td>2015-03-11 09:13:07</td>\n",
       "      <td>2018-05-22 16:38:49</td>\n",
       "      <td>2015-03-11 09:13:07</td>\n",
       "      <td>App Fee Waived</td>\n",
       "      <td>NaT</td>\n",
       "      <td>2015-03-11 09:13:13</td>\n",
       "      <td>NaT</td>\n",
       "      <td>NaT</td>\n",
       "      <td>NaT</td>\n",
       "    </tr>\n",
       "    <tr>\n",
       "      <th>1</th>\n",
       "      <td>886205496</td>\n",
       "      <td>36341133</td>\n",
       "      <td>Data Science</td>\n",
       "      <td>Fall 2015</td>\n",
       "      <td>Master's</td>\n",
       "      <td>Health and Biomedical Sciences</td>\n",
       "      <td>Fall 2015</td>\n",
       "      <td>Full Time</td>\n",
       "      <td>50.0</td>\n",
       "      <td>Admit/No Response</td>\n",
       "      <td>...</td>\n",
       "      <td>NaN</td>\n",
       "      <td>2015-04-14 13:04:12</td>\n",
       "      <td>2018-05-22 16:29:07</td>\n",
       "      <td>2015-05-02 08:25:02</td>\n",
       "      <td>NaN</td>\n",
       "      <td>2015-05-02 08:27:27</td>\n",
       "      <td>NaT</td>\n",
       "      <td>NaT</td>\n",
       "      <td>NaT</td>\n",
       "      <td>NaT</td>\n",
       "    </tr>\n",
       "    <tr>\n",
       "      <th>2</th>\n",
       "      <td>316770319</td>\n",
       "      <td>57598185</td>\n",
       "      <td>Data Science</td>\n",
       "      <td>Fall 2015</td>\n",
       "      <td>Master's</td>\n",
       "      <td>Health and Biomedical Sciences</td>\n",
       "      <td>Fall 2015</td>\n",
       "      <td>Part Time</td>\n",
       "      <td>50.0</td>\n",
       "      <td>Admit/Accept Offer</td>\n",
       "      <td>...</td>\n",
       "      <td>Title IX Training: Haven: Understanding Sexual...</td>\n",
       "      <td>2015-03-23 16:34:54</td>\n",
       "      <td>2020-02-04 12:46:32</td>\n",
       "      <td>2015-04-24 09:53:50</td>\n",
       "      <td>App Fee Waived</td>\n",
       "      <td>NaT</td>\n",
       "      <td>2015-04-16 09:32:30</td>\n",
       "      <td>2015-05-14 11:21:04</td>\n",
       "      <td>NaT</td>\n",
       "      <td>2015-05-14 10:20:47</td>\n",
       "    </tr>\n",
       "    <tr>\n",
       "      <th>3</th>\n",
       "      <td>489498029</td>\n",
       "      <td>189462065</td>\n",
       "      <td>Data Science</td>\n",
       "      <td>Fall 2015</td>\n",
       "      <td>Master's</td>\n",
       "      <td>Statistical Methodology</td>\n",
       "      <td>Fall 2015</td>\n",
       "      <td>Full Time</td>\n",
       "      <td>NaN</td>\n",
       "      <td>NaN</td>\n",
       "      <td>...</td>\n",
       "      <td>NaN</td>\n",
       "      <td>2015-03-11 20:57:17</td>\n",
       "      <td>2018-05-22 16:38:49</td>\n",
       "      <td>NaT</td>\n",
       "      <td>App Fee Waived</td>\n",
       "      <td>NaT</td>\n",
       "      <td>2015-03-11 20:58:08</td>\n",
       "      <td>NaT</td>\n",
       "      <td>NaT</td>\n",
       "      <td>NaT</td>\n",
       "    </tr>\n",
       "    <tr>\n",
       "      <th>4</th>\n",
       "      <td>288691498</td>\n",
       "      <td>624523937</td>\n",
       "      <td>Data Science</td>\n",
       "      <td>Fall 2015</td>\n",
       "      <td>Master's</td>\n",
       "      <td>Statistical Methodology</td>\n",
       "      <td>Fall 2015</td>\n",
       "      <td>Full Time</td>\n",
       "      <td>70.0</td>\n",
       "      <td>Admit/Accept Offer</td>\n",
       "      <td>...</td>\n",
       "      <td>Title IX Training: Haven: Understanding Sexual...</td>\n",
       "      <td>2015-03-31 19:30:32</td>\n",
       "      <td>2018-05-22 16:29:07</td>\n",
       "      <td>2015-05-01 17:25:26</td>\n",
       "      <td>App Fee Waived</td>\n",
       "      <td>NaT</td>\n",
       "      <td>2015-04-16 09:33:11</td>\n",
       "      <td>NaT</td>\n",
       "      <td>2015-05-20 19:37:22</td>\n",
       "      <td>2015-05-20 19:33:34</td>\n",
       "    </tr>\n",
       "  </tbody>\n",
       "</table>\n",
       "<p>5 rows × 217 columns</p>\n",
       "</div>"
      ],
      "text/plain": [
       "         Ref  Application Ref Program (ASE) Entry Term    Degree  \\\n",
       "0  588854023        889525867  Data Science  Fall 2015  Master's   \n",
       "1  886205496         36341133  Data Science  Fall 2015  Master's   \n",
       "2  316770319         57598185  Data Science  Fall 2015  Master's   \n",
       "3  489498029        189462065  Data Science  Fall 2015  Master's   \n",
       "4  288691498        624523937  Data Science  Fall 2015  Master's   \n",
       "\n",
       "                     Sub-Category Entry Term.1 Time Status  \\\n",
       "0  Health and Biomedical Sciences    Fall 2015   Full Time   \n",
       "1  Health and Biomedical Sciences    Fall 2015   Full Time   \n",
       "2  Health and Biomedical Sciences    Fall 2015   Part Time   \n",
       "3         Statistical Methodology    Fall 2015   Full Time   \n",
       "4         Statistical Methodology    Fall 2015   Full Time   \n",
       "\n",
       "   Tuition Percentage          Decision 1  ...  \\\n",
       "0                 NaN                Deny  ...   \n",
       "1                50.0   Admit/No Response  ...   \n",
       "2                50.0  Admit/Accept Offer  ...   \n",
       "3                 NaN                 NaN  ...   \n",
       "4                70.0  Admit/Accept Offer  ...   \n",
       "\n",
       "                     Missing Checklist Items (comma)             Created  \\\n",
       "0     Michael Asante, TOEFL or IELTS or PTE Academic 2015-03-11 09:13:07   \n",
       "1                                                NaN 2015-04-14 13:04:12   \n",
       "2  Title IX Training: Haven: Understanding Sexual... 2015-03-23 16:34:54   \n",
       "3                                                NaN 2015-03-11 20:57:17   \n",
       "4  Title IX Training: Haven: Understanding Sexual... 2015-03-31 19:30:32   \n",
       "\n",
       "              Updated           Submitted  App Fee Waiver  \\\n",
       "0 2018-05-22 16:38:49 2015-03-11 09:13:07  App Fee Waived   \n",
       "1 2018-05-22 16:29:07 2015-05-02 08:25:02             NaN   \n",
       "2 2020-02-04 12:46:32 2015-04-24 09:53:50  App Fee Waived   \n",
       "3 2018-05-22 16:38:49                 NaT  App Fee Waived   \n",
       "4 2018-05-22 16:29:07 2015-05-01 17:25:26  App Fee Waived   \n",
       "\n",
       "  App Fee Received Date App Fee Waived Date Deposit Waived Date  \\\n",
       "0                   NaT 2015-03-11 09:13:13                 NaT   \n",
       "1   2015-05-02 08:27:27                 NaT                 NaT   \n",
       "2                   NaT 2015-04-16 09:32:30 2015-05-14 11:21:04   \n",
       "3                   NaT 2015-03-11 20:58:08                 NaT   \n",
       "4                   NaT 2015-04-16 09:33:11                 NaT   \n",
       "\n",
       "   Deposit Received Date    Deposit Due Date  \n",
       "0                    NaT                 NaT  \n",
       "1                    NaT                 NaT  \n",
       "2                    NaT 2015-05-14 10:20:47  \n",
       "3                    NaT                 NaT  \n",
       "4    2015-05-20 19:37:22 2015-05-20 19:33:34  \n",
       "\n",
       "[5 rows x 217 columns]"
      ]
     },
     "execution_count": 2,
     "metadata": {},
     "output_type": "execute_result"
    }
   ],
   "source": [
    "capstone_df = pd.read_excel('./data/Capstone Dataset 20210608-183000.xlsx')\n",
    "capstone_df = capstone_df[capstone_df[\"Degree\"]==\"Master's\"]\n",
    "capstone_df.head()"
   ]
  },
  {
   "cell_type": "code",
   "execution_count": 3,
   "metadata": {},
   "outputs": [],
   "source": [
    "portrait_df = capstone_df[['Ref',\n",
    " 'Application Ref',\n",
    " 'Sex',\n",
    " 'Gender Identity',\n",
    " 'Birth State',\n",
    " 'Birth Country',\n",
    " 'Age at App Submission',\n",
    " 'Age',\n",
    " 'Native Language',\n",
    " 'Citizenship',\n",
    " 'Area of Interest',\n",
    " 'Career Plan',\n",
    " 'Application Year',\n",
    " 'Previously Applied?',\n",
    " 'Current Student?',\n",
    " 'Currently Employed?',\n",
    " 'Created',\n",
    " 'Updated',\n",
    " 'Submitted', \"Race\"]]"
   ]
  },
  {
   "cell_type": "code",
   "execution_count": 4,
   "metadata": {},
   "outputs": [
    {
     "name": "stderr",
     "output_type": "stream",
     "text": [
      "/var/folders/r9/ns6l9n4x0xl1ll5vm5cs1mlc0000gn/T/ipykernel_15904/2874676751.py:1: SettingWithCopyWarning: \n",
      "A value is trying to be set on a copy of a slice from a DataFrame.\n",
      "Try using .loc[row_indexer,col_indexer] = value instead\n",
      "\n",
      "See the caveats in the documentation: https://pandas.pydata.org/pandas-docs/stable/user_guide/indexing.html#returning-a-view-versus-a-copy\n",
      "  portrait_df['submit_delta'] = portrait_df.apply(lambda x: (x['Submitted'] - x['Created']).days, axis=1)\n"
     ]
    },
    {
     "data": {
      "text/html": [
       "<div>\n",
       "<style scoped>\n",
       "    .dataframe tbody tr th:only-of-type {\n",
       "        vertical-align: middle;\n",
       "    }\n",
       "\n",
       "    .dataframe tbody tr th {\n",
       "        vertical-align: top;\n",
       "    }\n",
       "\n",
       "    .dataframe thead th {\n",
       "        text-align: right;\n",
       "    }\n",
       "</style>\n",
       "<table border=\"1\" class=\"dataframe\">\n",
       "  <thead>\n",
       "    <tr style=\"text-align: right;\">\n",
       "      <th></th>\n",
       "      <th>Ref</th>\n",
       "      <th>Application Ref</th>\n",
       "      <th>Sex</th>\n",
       "      <th>Gender Identity</th>\n",
       "      <th>Birth State</th>\n",
       "      <th>Birth Country</th>\n",
       "      <th>Age at App Submission</th>\n",
       "      <th>Age</th>\n",
       "      <th>Native Language</th>\n",
       "      <th>Citizenship</th>\n",
       "      <th>...</th>\n",
       "      <th>Career Plan</th>\n",
       "      <th>Application Year</th>\n",
       "      <th>Previously Applied?</th>\n",
       "      <th>Current Student?</th>\n",
       "      <th>Currently Employed?</th>\n",
       "      <th>Created</th>\n",
       "      <th>Updated</th>\n",
       "      <th>Submitted</th>\n",
       "      <th>Race</th>\n",
       "      <th>submit_delta</th>\n",
       "    </tr>\n",
       "  </thead>\n",
       "  <tbody>\n",
       "    <tr>\n",
       "      <th>0</th>\n",
       "      <td>588854023</td>\n",
       "      <td>889525867</td>\n",
       "      <td>M</td>\n",
       "      <td>NaN</td>\n",
       "      <td>Greater Accra</td>\n",
       "      <td>GH</td>\n",
       "      <td>27.0</td>\n",
       "      <td>34.0</td>\n",
       "      <td>EN</td>\n",
       "      <td>FN</td>\n",
       "      <td>...</td>\n",
       "      <td>NaN</td>\n",
       "      <td>NaN</td>\n",
       "      <td>No</td>\n",
       "      <td>No</td>\n",
       "      <td>No</td>\n",
       "      <td>2015-03-11 09:13:07</td>\n",
       "      <td>2018-05-22 16:38:49</td>\n",
       "      <td>2015-03-11 09:13:07</td>\n",
       "      <td>Black or African American</td>\n",
       "      <td>0.0</td>\n",
       "    </tr>\n",
       "    <tr>\n",
       "      <th>1</th>\n",
       "      <td>886205496</td>\n",
       "      <td>36341133</td>\n",
       "      <td>M</td>\n",
       "      <td>NaN</td>\n",
       "      <td>NY</td>\n",
       "      <td>US</td>\n",
       "      <td>21.0</td>\n",
       "      <td>27.0</td>\n",
       "      <td>EN</td>\n",
       "      <td>US</td>\n",
       "      <td>...</td>\n",
       "      <td>I am preparing for a research and development ...</td>\n",
       "      <td>2011.0</td>\n",
       "      <td>Yes</td>\n",
       "      <td>Yes</td>\n",
       "      <td>No</td>\n",
       "      <td>2015-04-14 13:04:12</td>\n",
       "      <td>2018-05-22 16:29:07</td>\n",
       "      <td>2015-05-02 08:25:02</td>\n",
       "      <td>White</td>\n",
       "      <td>17.0</td>\n",
       "    </tr>\n",
       "    <tr>\n",
       "      <th>2</th>\n",
       "      <td>316770319</td>\n",
       "      <td>57598185</td>\n",
       "      <td>F</td>\n",
       "      <td>NaN</td>\n",
       "      <td>IA</td>\n",
       "      <td>US</td>\n",
       "      <td>26.0</td>\n",
       "      <td>33.0</td>\n",
       "      <td>EN</td>\n",
       "      <td>US</td>\n",
       "      <td>...</td>\n",
       "      <td>In the future I would like to become an academ...</td>\n",
       "      <td>2010.0</td>\n",
       "      <td>Yes</td>\n",
       "      <td>Yes</td>\n",
       "      <td>Yes</td>\n",
       "      <td>2015-03-23 16:34:54</td>\n",
       "      <td>2020-02-04 12:46:32</td>\n",
       "      <td>2015-04-24 09:53:50</td>\n",
       "      <td>White</td>\n",
       "      <td>31.0</td>\n",
       "    </tr>\n",
       "    <tr>\n",
       "      <th>3</th>\n",
       "      <td>489498029</td>\n",
       "      <td>189462065</td>\n",
       "      <td>M</td>\n",
       "      <td>NaN</td>\n",
       "      <td>SC</td>\n",
       "      <td>US</td>\n",
       "      <td>NaN</td>\n",
       "      <td>40.0</td>\n",
       "      <td>EN</td>\n",
       "      <td>US</td>\n",
       "      <td>...</td>\n",
       "      <td>NaN</td>\n",
       "      <td>NaN</td>\n",
       "      <td>No</td>\n",
       "      <td>No</td>\n",
       "      <td>No</td>\n",
       "      <td>2015-03-11 20:57:17</td>\n",
       "      <td>2018-05-22 16:38:49</td>\n",
       "      <td>NaT</td>\n",
       "      <td>Black or African American</td>\n",
       "      <td>NaN</td>\n",
       "    </tr>\n",
       "    <tr>\n",
       "      <th>4</th>\n",
       "      <td>288691498</td>\n",
       "      <td>624523937</td>\n",
       "      <td>M</td>\n",
       "      <td>NaN</td>\n",
       "      <td>MA</td>\n",
       "      <td>US</td>\n",
       "      <td>22.0</td>\n",
       "      <td>28.0</td>\n",
       "      <td>EN</td>\n",
       "      <td>US</td>\n",
       "      <td>...</td>\n",
       "      <td>I am preparing for a career as a computer visi...</td>\n",
       "      <td>2011.0</td>\n",
       "      <td>Yes</td>\n",
       "      <td>Yes</td>\n",
       "      <td>Yes</td>\n",
       "      <td>2015-03-31 19:30:32</td>\n",
       "      <td>2018-05-22 16:29:07</td>\n",
       "      <td>2015-05-01 17:25:26</td>\n",
       "      <td>White</td>\n",
       "      <td>30.0</td>\n",
       "    </tr>\n",
       "  </tbody>\n",
       "</table>\n",
       "<p>5 rows × 21 columns</p>\n",
       "</div>"
      ],
      "text/plain": [
       "         Ref  Application Ref Sex Gender Identity    Birth State  \\\n",
       "0  588854023        889525867   M             NaN  Greater Accra   \n",
       "1  886205496         36341133   M             NaN             NY   \n",
       "2  316770319         57598185   F             NaN             IA   \n",
       "3  489498029        189462065   M             NaN             SC   \n",
       "4  288691498        624523937   M             NaN             MA   \n",
       "\n",
       "  Birth Country  Age at App Submission   Age Native Language Citizenship  ...  \\\n",
       "0            GH                   27.0  34.0              EN          FN  ...   \n",
       "1            US                   21.0  27.0              EN          US  ...   \n",
       "2            US                   26.0  33.0              EN          US  ...   \n",
       "3            US                    NaN  40.0              EN          US  ...   \n",
       "4            US                   22.0  28.0              EN          US  ...   \n",
       "\n",
       "                                         Career Plan Application Year  \\\n",
       "0                                                NaN              NaN   \n",
       "1  I am preparing for a research and development ...           2011.0   \n",
       "2  In the future I would like to become an academ...           2010.0   \n",
       "3                                                NaN              NaN   \n",
       "4  I am preparing for a career as a computer visi...           2011.0   \n",
       "\n",
       "   Previously Applied? Current Student? Currently Employed?  \\\n",
       "0                   No               No                  No   \n",
       "1                  Yes              Yes                  No   \n",
       "2                  Yes              Yes                 Yes   \n",
       "3                   No               No                  No   \n",
       "4                  Yes              Yes                 Yes   \n",
       "\n",
       "              Created             Updated           Submitted  \\\n",
       "0 2015-03-11 09:13:07 2018-05-22 16:38:49 2015-03-11 09:13:07   \n",
       "1 2015-04-14 13:04:12 2018-05-22 16:29:07 2015-05-02 08:25:02   \n",
       "2 2015-03-23 16:34:54 2020-02-04 12:46:32 2015-04-24 09:53:50   \n",
       "3 2015-03-11 20:57:17 2018-05-22 16:38:49                 NaT   \n",
       "4 2015-03-31 19:30:32 2018-05-22 16:29:07 2015-05-01 17:25:26   \n",
       "\n",
       "                        Race submit_delta  \n",
       "0  Black or African American          0.0  \n",
       "1                      White         17.0  \n",
       "2                      White         31.0  \n",
       "3  Black or African American          NaN  \n",
       "4                      White         30.0  \n",
       "\n",
       "[5 rows x 21 columns]"
      ]
     },
     "execution_count": 4,
     "metadata": {},
     "output_type": "execute_result"
    }
   ],
   "source": [
    "portrait_df['submit_delta'] = portrait_df.apply(lambda x: (x['Submitted'] - x['Created']).days, axis=1)\n",
    "portrait_df.head()"
   ]
  },
  {
   "cell_type": "code",
   "execution_count": 5,
   "metadata": {},
   "outputs": [
    {
     "data": {
      "text/plain": [
       "count    2834.000000\n",
       "mean       23.646789\n",
       "std        27.722526\n",
       "min         0.000000\n",
       "25%         3.000000\n",
       "50%        14.000000\n",
       "75%        34.000000\n",
       "max       221.000000\n",
       "Name: submit_delta, dtype: float64"
      ]
     },
     "execution_count": 5,
     "metadata": {},
     "output_type": "execute_result"
    }
   ],
   "source": [
    "portrait_df['submit_delta'].describe()"
   ]
  },
  {
   "cell_type": "code",
   "execution_count": 6,
   "metadata": {},
   "outputs": [
    {
     "data": {
      "text/plain": [
       "array([  0.,  17.,  31.,  nan,  30.,  16.,  18.,  20.,   7.,   4.,   8.,\n",
       "         2.,  13.,  27.,   6.,  49.,  10.,   1.,  11.,   9.,  12.,  25.,\n",
       "        43.,  21.,  14., 142.,  55.,  56.,   3.,  38.,  34.,  32.,  46.,\n",
       "        29.,  44.,   5.,  23.,  19.,  48.,  26.,  22.,  42.,  37.,  35.,\n",
       "        71.,  75.,  39.,  72.,  15.,  79., 118.,  64., 102.,  33.,  24.,\n",
       "       111.,  41.,  36.,  66.,  52.,  86.,  50.,  57.,  70.,  67.,  81.,\n",
       "        53.,  60., 125.,  47., 122.,  59.,  87.,  77.,  63.,  28.,  45.,\n",
       "        94.,  85.,  95.,  54.,  65., 132., 134.,  78.,  93., 108.,  92.,\n",
       "        88.,  51., 110.,  98., 101.,  99.,  62.,  61.,  40.,  84.,  73.,\n",
       "       137., 120.,  97.,  83., 104., 157., 130.,  69.,  91.,  74., 128.,\n",
       "        58., 121.,  80., 143., 119., 114., 116., 127., 100., 103., 136.,\n",
       "       106., 139.,  96.,  90., 131., 117., 221.,  76.,  82., 171., 109.,\n",
       "       176., 107., 105., 144., 112., 161.])"
      ]
     },
     "execution_count": 6,
     "metadata": {},
     "output_type": "execute_result"
    }
   ],
   "source": [
    "portrait_df['submit_delta'].unique()"
   ]
  },
  {
   "cell_type": "code",
   "execution_count": 7,
   "metadata": {},
   "outputs": [],
   "source": [
    "submit_dic_1 = {(0,0):0, (1,1):0, (2,2):0, (3,3):0, (4,4):0, (5,5):0, (6,6):0, (7,7):0, (8,8):0, (9,9):0, (10, 10):0, (11, 11):0,\n",
    "                (12, 12):0, (13, 13): 0}\n",
    "submit_dic_2 = {(0, 6):0, (7, 13):0, (14, 29):0, (30, 49):0, (50, 300):0}\n",
    "days_list = portrait_df[~portrait_df['submit_delta'].isna()]['submit_delta'].tolist()\n",
    "\n",
    "def count(submit_dic):\n",
    "    for days in days_list:\n",
    "        for k,_ in submit_dic.items():\n",
    "            if k[0] <= days and days <= k[1]:\n",
    "                submit_dic[k] += 1\n",
    "    return submit_dic\n",
    "submit_dic_1 = count(submit_dic_1)\n",
    "submit_dic_2 = count(submit_dic_2)"
   ]
  },
  {
   "cell_type": "code",
   "execution_count": 8,
   "metadata": {},
   "outputs": [
    {
     "data": {
      "image/png": "[encoded data removed]",
      "text/plain": [
       "<Figure size 720x432 with 1 Axes>"
      ]
     },
     "metadata": {
      "needs_background": "light"
     },
     "output_type": "display_data"
    }
   ],
   "source": [
    "X = [*np.arange(1, 15)]\n",
    "Y = [*submit_dic_1.values()]\n",
    "fig, ax = plt.subplots(figsize=(10,6))\n",
    "ax.bar(x=X, height=Y)\n",
    "plt.xticks(X, X)\n",
    "plt.ylabel('Number of Applicants')\n",
    "plt.xlabel('Days between submission and creation')\n",
    "plt.title('Submission within the first two weeks')\n",
    "plt.show()"
   ]
  },
  {
   "cell_type": "code",
   "execution_count": 9,
   "metadata": {},
   "outputs": [
    {
     "data": {
      "image/png": "[encoded data removed]",
      "text/plain": [
       "<Figure size 432x432 with 1 Axes>"
      ]
     },
     "metadata": {},
     "output_type": "display_data"
    }
   ],
   "source": [
    "labels = '1-7 Days', '7-14 Days','14-30 Days', '30-50 Days', '>50 Days'\n",
    "sizes = [*submit_dic_2.values()]\n",
    "fig, ax = plt.subplots(figsize=(6,6))\n",
    "ax.pie(sizes, labels=labels, autopct='%1.1f%%', startangle=90)\n",
    "ax.axis('equal')  # Equal aspect ratio ensures that pie is drawn as a circle.\n",
    "plt.title('Submission Distribution')\n",
    "plt.show()"
   ]
  },
  {
   "cell_type": "code",
   "execution_count": 10,
   "metadata": {},
   "outputs": [],
   "source": [
    "procrast_df = portrait_df[~portrait_df['submit_delta'].isna()]\n",
    "procrast_df = procrast_df.astype({'submit_delta': int, 'Age at App Submission': int, 'Age':int})\n",
    "procrast_df_threecountries = procrast_df[(procrast_df['Birth Country']=='US')|(procrast_df['Birth Country']=='CH')|(procrast_df['Birth Country']=='IN')]"
   ]
  },
  {
   "cell_type": "code",
   "execution_count": 11,
   "metadata": {},
   "outputs": [
    {
     "data": {
      "text/plain": [
       "count    2834.000000\n",
       "mean       23.646789\n",
       "std        27.722526\n",
       "min         0.000000\n",
       "25%         3.000000\n",
       "50%        14.000000\n",
       "75%        34.000000\n",
       "max       221.000000\n",
       "Name: submit_delta, dtype: float64"
      ]
     },
     "execution_count": 11,
     "metadata": {},
     "output_type": "execute_result"
    }
   ],
   "source": [
    "portrait_df[~portrait_df['submit_delta'].isna()].submit_delta.describe()"
   ]
  },
  {
   "cell_type": "code",
   "execution_count": 12,
   "metadata": {},
   "outputs": [
    {
     "data": {
      "image/png": "[encoded data removed]",
      "text/plain": [
       "<Figure size 288x432 with 1 Axes>"
      ]
     },
     "metadata": {
      "needs_background": "light"
     },
     "output_type": "display_data"
    }
   ],
   "source": [
    "plt.figure(figsize=(4, 6))\n",
    "ax = sns.boxplot(x=\"Birth Country\", y=\"submit_delta\", data=procrast_df_threecountries)\n",
    "ax.set_ylabel('Days between submission and creation')\n",
    "ax.set_title('Application Time By Birth Country')\n",
    "plt.show()"
   ]
  },
  {
   "cell_type": "code",
   "execution_count": 13,
   "metadata": {},
   "outputs": [
    {
     "data": {
      "text/html": [
       "<div>\n",
       "<style scoped>\n",
       "    .dataframe tbody tr th:only-of-type {\n",
       "        vertical-align: middle;\n",
       "    }\n",
       "\n",
       "    .dataframe tbody tr th {\n",
       "        vertical-align: top;\n",
       "    }\n",
       "\n",
       "    .dataframe thead th {\n",
       "        text-align: right;\n",
       "    }\n",
       "</style>\n",
       "<table border=\"1\" class=\"dataframe\">\n",
       "  <thead>\n",
       "    <tr style=\"text-align: right;\">\n",
       "      <th></th>\n",
       "      <th>count</th>\n",
       "      <th>mean</th>\n",
       "      <th>std</th>\n",
       "      <th>min</th>\n",
       "      <th>25%</th>\n",
       "      <th>50%</th>\n",
       "      <th>75%</th>\n",
       "      <th>max</th>\n",
       "    </tr>\n",
       "    <tr>\n",
       "      <th>Birth Country</th>\n",
       "      <th></th>\n",
       "      <th></th>\n",
       "      <th></th>\n",
       "      <th></th>\n",
       "      <th></th>\n",
       "      <th></th>\n",
       "      <th></th>\n",
       "      <th></th>\n",
       "    </tr>\n",
       "  </thead>\n",
       "  <tbody>\n",
       "    <tr>\n",
       "      <th>CH</th>\n",
       "      <td>1586.0</td>\n",
       "      <td>26.121059</td>\n",
       "      <td>27.142558</td>\n",
       "      <td>0.0</td>\n",
       "      <td>4.0</td>\n",
       "      <td>19.0</td>\n",
       "      <td>40.0</td>\n",
       "      <td>176.0</td>\n",
       "    </tr>\n",
       "    <tr>\n",
       "      <th>IN</th>\n",
       "      <td>654.0</td>\n",
       "      <td>14.980122</td>\n",
       "      <td>19.830937</td>\n",
       "      <td>0.0</td>\n",
       "      <td>1.0</td>\n",
       "      <td>8.0</td>\n",
       "      <td>21.0</td>\n",
       "      <td>142.0</td>\n",
       "    </tr>\n",
       "    <tr>\n",
       "      <th>US</th>\n",
       "      <td>272.0</td>\n",
       "      <td>29.915441</td>\n",
       "      <td>36.118453</td>\n",
       "      <td>0.0</td>\n",
       "      <td>4.0</td>\n",
       "      <td>18.0</td>\n",
       "      <td>42.0</td>\n",
       "      <td>221.0</td>\n",
       "    </tr>\n",
       "  </tbody>\n",
       "</table>\n",
       "</div>"
      ],
      "text/plain": [
       "                count       mean        std  min  25%   50%   75%    max\n",
       "Birth Country                                                           \n",
       "CH             1586.0  26.121059  27.142558  0.0  4.0  19.0  40.0  176.0\n",
       "IN              654.0  14.980122  19.830937  0.0  1.0   8.0  21.0  142.0\n",
       "US              272.0  29.915441  36.118453  0.0  4.0  18.0  42.0  221.0"
      ]
     },
     "execution_count": 13,
     "metadata": {},
     "output_type": "execute_result"
    }
   ],
   "source": [
    "procrast_df_threecountries.groupby(['Birth Country']).submit_delta.describe()"
   ]
  },
  {
   "cell_type": "code",
   "execution_count": 14,
   "metadata": {},
   "outputs": [
    {
     "data": {
      "image/png": "[encoded data removed]",
      "text/plain": [
       "<Figure size 720x432 with 1 Axes>"
      ]
     },
     "metadata": {
      "needs_background": "light"
     },
     "output_type": "display_data"
    }
   ],
   "source": [
    "data_1 = procrast_df_threecountries[procrast_df_threecountries['Birth Country']=='US']['submit_delta'].tolist()\n",
    "data_2 = procrast_df_threecountries[procrast_df_threecountries['Birth Country']=='CH']['submit_delta'].tolist()\n",
    "data_3 = procrast_df_threecountries[procrast_df_threecountries['Birth Country']=='IN']['submit_delta'].tolist()\n",
    "data_4 = portrait_df[~portrait_df['submit_delta'].isna()]['submit_delta'].tolist()\n",
    "data = [data_1, data_2, data_3, data_4]\n",
    " \n",
    "fig = plt.figure(figsize =(10, 6))\n",
    "plt.boxplot(data)\n",
    "plt.xticks([1,2,3,4], ['US', 'CHINA', 'INDIA', 'ALL'])\n",
    "plt.ylabel(\"Days between submission and creation\")\n",
    "plt.ylim((0,100))\n",
    "plt.title(\"Application Time By Birth Country\")\n",
    "plt.show()"
   ]
  },
  {
   "cell_type": "code",
   "execution_count": 15,
   "metadata": {},
   "outputs": [
    {
     "data": {
      "text/plain": [
       "Index(['Ref', 'Application Ref', 'Sex', 'Gender Identity', 'Birth State',\n",
       "       'Birth Country', 'Age at App Submission', 'Age', 'Native Language',\n",
       "       'Citizenship', 'Area of Interest', 'Career Plan', 'Application Year',\n",
       "       'Previously Applied?', 'Current Student?', 'Currently Employed?',\n",
       "       'Created', 'Updated', 'Submitted', 'Race', 'submit_delta'],\n",
       "      dtype='object')"
      ]
     },
     "execution_count": 15,
     "metadata": {},
     "output_type": "execute_result"
    }
   ],
   "source": [
    "portrait_df.columns"
   ]
  },
  {
   "cell_type": "code",
   "execution_count": 16,
   "metadata": {},
   "outputs": [
    {
     "name": "stderr",
     "output_type": "stream",
     "text": [
      "/var/folders/r9/ns6l9n4x0xl1ll5vm5cs1mlc0000gn/T/ipykernel_15904/3779100495.py:1: SettingWithCopyWarning: \n",
      "A value is trying to be set on a copy of a slice from a DataFrame.\n",
      "Try using .loc[row_indexer,col_indexer] = value instead\n",
      "\n",
      "See the caveats in the documentation: https://pandas.pydata.org/pandas-docs/stable/user_guide/indexing.html#returning-a-view-versus-a-copy\n",
      "  portrait_df['Status'] = portrait_df['Submitted'].apply(lambda x: \"Didn't submit\" if pd.isna(x) else 'Submit')\n"
     ]
    },
    {
     "data": {
      "text/plain": [
       "0              Submit\n",
       "1              Submit\n",
       "2              Submit\n",
       "3       Didn't submit\n",
       "4              Submit\n",
       "            ...      \n",
       "3714           Submit\n",
       "3715           Submit\n",
       "3717           Submit\n",
       "3718           Submit\n",
       "3720           Submit\n",
       "Name: Status, Length: 3627, dtype: object"
      ]
     },
     "execution_count": 16,
     "metadata": {},
     "output_type": "execute_result"
    }
   ],
   "source": [
    "portrait_df['Status'] = portrait_df['Submitted'].apply(lambda x: \"Didn't submit\" if pd.isna(x) else 'Submit')\n",
    "portrait_df['Status']"
   ]
  },
  {
   "cell_type": "code",
   "execution_count": 17,
   "metadata": {},
   "outputs": [
    {
     "data": {
      "image/png": "[encoded data removed]",
      "text/plain": [
       "<Figure size 432x432 with 1 Axes>"
      ]
     },
     "metadata": {},
     "output_type": "display_data"
    }
   ],
   "source": [
    "fig, ax = plt.subplots(figsize=(6,6))\n",
    "portrait_df['Status'].value_counts().plot(kind='pie', autopct='%1.0f%%', title='Distribution of Applicants (All Countries)', ax=ax)\n",
    "plt.show()"
   ]
  },
  {
   "cell_type": "code",
   "execution_count": 18,
   "metadata": {},
   "outputs": [
    {
     "data": {
      "text/plain": [
       "Birth Country\n",
       "CH    232\n",
       "IN    203\n",
       "US    192\n",
       "dtype: int64"
      ]
     },
     "execution_count": 18,
     "metadata": {},
     "output_type": "execute_result"
    }
   ],
   "source": [
    "portrait_df[portrait_df['Status']==\"Didn't submit\"].groupby(['Birth Country']).size().sort_values(ascending=False).head(3)"
   ]
  },
  {
   "cell_type": "code",
   "execution_count": 19,
   "metadata": {},
   "outputs": [
    {
     "data": {
      "text/plain": [
       "Birth Country\n",
       "CH    1818\n",
       "IN     857\n",
       "US     464\n",
       "dtype: int64"
      ]
     },
     "execution_count": 19,
     "metadata": {},
     "output_type": "execute_result"
    }
   ],
   "source": [
    "portrait_df.groupby(['Birth Country']).size().sort_values(ascending=False).head(3)"
   ]
  },
  {
   "cell_type": "code",
   "execution_count": 20,
   "metadata": {},
   "outputs": [
    {
     "data": {
      "image/png": "[encoded data removed]",
      "text/plain": [
       "<Figure size 432x432 with 1 Axes>"
      ]
     },
     "metadata": {},
     "output_type": "display_data"
    }
   ],
   "source": [
    "y = np.array([(1818-232), 232])\n",
    "mylabels = [\"Submit\", \"Didn't submit\"]\n",
    "myexplode = [0.1, 0]\n",
    "fig, ax = plt.subplots(figsize=(6,6))\n",
    "plt.pie(y, labels = mylabels, explode = myexplode, autopct='%1.0f%%')\n",
    "plt.title(\"Distribution of Applicants (China)\")\n",
    "plt.show() "
   ]
  },
  {
   "cell_type": "code",
   "execution_count": 21,
   "metadata": {},
   "outputs": [
    {
     "data": {
      "image/png": "[encoded data removed]",
      "text/plain": [
       "<Figure size 432x432 with 1 Axes>"
      ]
     },
     "metadata": {},
     "output_type": "display_data"
    }
   ],
   "source": [
    "y = np.array([(857-203), 203])\n",
    "mylabels = [\"Submit\", \"Didn't submit\"]\n",
    "myexplode = [0.1, 0]\n",
    "fig, ax = plt.subplots(figsize=(6,6))\n",
    "plt.pie(y, labels = mylabels, explode = myexplode, autopct='%1.0f%%')\n",
    "plt.title(\"Distribution of Applicants (India)\")\n",
    "plt.show() "
   ]
  },
  {
   "cell_type": "code",
   "execution_count": 22,
   "metadata": {},
   "outputs": [
    {
     "data": {
      "image/png": "[encoded data removed]",
      "text/plain": [
       "<Figure size 432x432 with 1 Axes>"
      ]
     },
     "metadata": {},
     "output_type": "display_data"
    }
   ],
   "source": [
    "y = np.array([(464-192), 192])\n",
    "mylabels = [\"Submit\", \"Didn't submit\"]\n",
    "myexplode = [0.1, 0]\n",
    "fig, ax = plt.subplots(figsize=(6,6))\n",
    "plt.pie(y, labels = mylabels, explode = myexplode, autopct='%1.0f%%')\n",
    "plt.title(\"Distribution of Applicants (US)\")\n",
    "plt.show() "
   ]
  },
  {
   "cell_type": "code",
   "execution_count": 23,
   "metadata": {},
   "outputs": [
    {
     "data": {
      "text/plain": [
       "Sex\n",
       "F    254\n",
       "M    393\n",
       "dtype: int64"
      ]
     },
     "execution_count": 23,
     "metadata": {},
     "output_type": "execute_result"
    }
   ],
   "source": [
    "portrait_df[portrait_df['Status']==\"Didn't submit\"].groupby(['Sex']).size()"
   ]
  },
  {
   "cell_type": "code",
   "execution_count": 24,
   "metadata": {},
   "outputs": [
    {
     "data": {
      "text/plain": [
       "Sex\n",
       "F    1335\n",
       "M    2146\n",
       "dtype: int64"
      ]
     },
     "execution_count": 24,
     "metadata": {},
     "output_type": "execute_result"
    }
   ],
   "source": [
    "portrait_df.groupby(['Sex']).size()"
   ]
  },
  {
   "cell_type": "code",
   "execution_count": 25,
   "metadata": {},
   "outputs": [
    {
     "data": {
      "image/png": "[encoded data removed]",
      "text/plain": [
       "<Figure size 432x432 with 1 Axes>"
      ]
     },
     "metadata": {},
     "output_type": "display_data"
    }
   ],
   "source": [
    "y = np.array([(1335-254), 254])\n",
    "mylabels = [\"Submit\", \"Didn't submit\"]\n",
    "myexplode = [0.1, 0]\n",
    "fig, ax = plt.subplots(figsize=(6,6))\n",
    "plt.pie(y, labels = mylabels, explode = myexplode, autopct='%1.0f%%')\n",
    "plt.title(\"Distribution of Applicants (Female)\")\n",
    "plt.show() "
   ]
  },
  {
   "cell_type": "code",
   "execution_count": 26,
   "metadata": {},
   "outputs": [
    {
     "data": {
      "image/png": "[encoded data removed]",
      "text/plain": [
       "<Figure size 432x432 with 1 Axes>"
      ]
     },
     "metadata": {},
     "output_type": "display_data"
    }
   ],
   "source": [
    "y = np.array([(2146-393), 393])\n",
    "mylabels = [\"Submit\", \"Didn't submit\"]\n",
    "myexplode = [0.1, 0]\n",
    "fig, ax = plt.subplots(figsize=(6,6))\n",
    "plt.pie(y, labels = mylabels, explode = myexplode, autopct='%1.0f%%')\n",
    "plt.title(\"Distribution of Applicants (Male)\")\n",
    "plt.show()"
   ]
  },
  {
   "cell_type": "code",
   "execution_count": 27,
   "metadata": {},
   "outputs": [
    {
     "data": {
      "text/plain": [
       "(3627, 217)"
      ]
     },
     "execution_count": 27,
     "metadata": {},
     "output_type": "execute_result"
    }
   ],
   "source": [
    "capstone_df.shape"
   ]
  },
  {
   "cell_type": "code",
   "execution_count": 28,
   "metadata": {},
   "outputs": [
    {
     "data": {
      "text/plain": [
       "(3448, 217)"
      ]
     },
     "execution_count": 28,
     "metadata": {},
     "output_type": "execute_result"
    }
   ],
   "source": [
    "capstone_df = capstone_df.drop_duplicates(['Ref'])\n",
    "capstone_df.shape"
   ]
  },
  {
   "cell_type": "code",
   "execution_count": 29,
   "metadata": {},
   "outputs": [
    {
     "ename": "FileNotFoundError",
     "evalue": "[Errno 2] No such file or directory: './Admissions_CLEAN.xlsx'",
     "output_type": "error",
     "traceback": [
      "\u001b[0;31m---------------------------------------------------------------------------\u001b[0m",
      "\u001b[0;31mFileNotFoundError\u001b[0m                         Traceback (most recent call last)",
      "\u001b[0;32m/var/folders/r9/ns6l9n4x0xl1ll5vm5cs1mlc0000gn/T/ipykernel_15904/1260179007.py\u001b[0m in \u001b[0;36m<module>\u001b[0;34m\u001b[0m\n\u001b[0;32m----> 1\u001b[0;31m \u001b[0mdata\u001b[0m \u001b[0;34m=\u001b[0m \u001b[0mpd\u001b[0m\u001b[0;34m.\u001b[0m\u001b[0mread_excel\u001b[0m\u001b[0;34m(\u001b[0m\u001b[0;34m\"./Admissions_CLEAN.xlsx\"\u001b[0m\u001b[0;34m)\u001b[0m\u001b[0;34m\u001b[0m\u001b[0;34m\u001b[0m\u001b[0m\n\u001b[0m",
      "\u001b[0;32m/Applications/anaconda3/lib/python3.9/site-packages/pandas/util/_decorators.py\u001b[0m in \u001b[0;36mwrapper\u001b[0;34m(*args, **kwargs)\u001b[0m\n\u001b[1;32m    309\u001b[0m                     \u001b[0mstacklevel\u001b[0m\u001b[0;34m=\u001b[0m\u001b[0mstacklevel\u001b[0m\u001b[0;34m,\u001b[0m\u001b[0;34m\u001b[0m\u001b[0;34m\u001b[0m\u001b[0m\n\u001b[1;32m    310\u001b[0m                 )\n\u001b[0;32m--> 311\u001b[0;31m             \u001b[0;32mreturn\u001b[0m \u001b[0mfunc\u001b[0m\u001b[0;34m(\u001b[0m\u001b[0;34m*\u001b[0m\u001b[0margs\u001b[0m\u001b[0;34m,\u001b[0m \u001b[0;34m**\u001b[0m\u001b[0mkwargs\u001b[0m\u001b[0;34m)\u001b[0m\u001b[0;34m\u001b[0m\u001b[0;34m\u001b[0m\u001b[0m\n\u001b[0m\u001b[1;32m    312\u001b[0m \u001b[0;34m\u001b[0m\u001b[0m\n\u001b[1;32m    313\u001b[0m         \u001b[0;32mreturn\u001b[0m \u001b[0mwrapper\u001b[0m\u001b[0;34m\u001b[0m\u001b[0;34m\u001b[0m\u001b[0m\n",
      "\u001b[0;32m/Applications/anaconda3/lib/python3.9/site-packages/pandas/io/excel/_base.py\u001b[0m in \u001b[0;36mread_excel\u001b[0;34m(io, sheet_name, header, names, index_col, usecols, squeeze, dtype, engine, converters, true_values, false_values, skiprows, nrows, na_values, keep_default_na, na_filter, verbose, parse_dates, date_parser, thousands, comment, skipfooter, convert_float, mangle_dupe_cols, storage_options)\u001b[0m\n\u001b[1;32m    362\u001b[0m     \u001b[0;32mif\u001b[0m \u001b[0;32mnot\u001b[0m \u001b[0misinstance\u001b[0m\u001b[0;34m(\u001b[0m\u001b[0mio\u001b[0m\u001b[0;34m,\u001b[0m \u001b[0mExcelFile\u001b[0m\u001b[0;34m)\u001b[0m\u001b[0;34m:\u001b[0m\u001b[0;34m\u001b[0m\u001b[0;34m\u001b[0m\u001b[0m\n\u001b[1;32m    363\u001b[0m         \u001b[0mshould_close\u001b[0m \u001b[0;34m=\u001b[0m \u001b[0;32mTrue\u001b[0m\u001b[0;34m\u001b[0m\u001b[0;34m\u001b[0m\u001b[0m\n\u001b[0;32m--> 364\u001b[0;31m         \u001b[0mio\u001b[0m \u001b[0;34m=\u001b[0m \u001b[0mExcelFile\u001b[0m\u001b[0;34m(\u001b[0m\u001b[0mio\u001b[0m\u001b[0;34m,\u001b[0m \u001b[0mstorage_options\u001b[0m\u001b[0;34m=\u001b[0m\u001b[0mstorage_options\u001b[0m\u001b[0;34m,\u001b[0m \u001b[0mengine\u001b[0m\u001b[0;34m=\u001b[0m\u001b[0mengine\u001b[0m\u001b[0;34m)\u001b[0m\u001b[0;34m\u001b[0m\u001b[0;34m\u001b[0m\u001b[0m\n\u001b[0m\u001b[1;32m    365\u001b[0m     \u001b[0;32melif\u001b[0m \u001b[0mengine\u001b[0m \u001b[0;32mand\u001b[0m \u001b[0mengine\u001b[0m \u001b[0;34m!=\u001b[0m \u001b[0mio\u001b[0m\u001b[0;34m.\u001b[0m\u001b[0mengine\u001b[0m\u001b[0;34m:\u001b[0m\u001b[0;34m\u001b[0m\u001b[0;34m\u001b[0m\u001b[0m\n\u001b[1;32m    366\u001b[0m         raise ValueError(\n",
      "\u001b[0;32m/Applications/anaconda3/lib/python3.9/site-packages/pandas/io/excel/_base.py\u001b[0m in \u001b[0;36m__init__\u001b[0;34m(self, path_or_buffer, engine, storage_options)\u001b[0m\n\u001b[1;32m   1189\u001b[0m                 \u001b[0mext\u001b[0m \u001b[0;34m=\u001b[0m \u001b[0;34m\"xls\"\u001b[0m\u001b[0;34m\u001b[0m\u001b[0;34m\u001b[0m\u001b[0m\n\u001b[1;32m   1190\u001b[0m             \u001b[0;32melse\u001b[0m\u001b[0;34m:\u001b[0m\u001b[0;34m\u001b[0m\u001b[0;34m\u001b[0m\u001b[0m\n\u001b[0;32m-> 1191\u001b[0;31m                 ext = inspect_excel_format(\n\u001b[0m\u001b[1;32m   1192\u001b[0m                     \u001b[0mcontent_or_path\u001b[0m\u001b[0;34m=\u001b[0m\u001b[0mpath_or_buffer\u001b[0m\u001b[0;34m,\u001b[0m \u001b[0mstorage_options\u001b[0m\u001b[0;34m=\u001b[0m\u001b[0mstorage_options\u001b[0m\u001b[0;34m\u001b[0m\u001b[0;34m\u001b[0m\u001b[0m\n\u001b[1;32m   1193\u001b[0m                 )\n",
      "\u001b[0;32m/Applications/anaconda3/lib/python3.9/site-packages/pandas/io/excel/_base.py\u001b[0m in \u001b[0;36minspect_excel_format\u001b[0;34m(content_or_path, storage_options)\u001b[0m\n\u001b[1;32m   1068\u001b[0m         \u001b[0mcontent_or_path\u001b[0m \u001b[0;34m=\u001b[0m \u001b[0mBytesIO\u001b[0m\u001b[0;34m(\u001b[0m\u001b[0mcontent_or_path\u001b[0m\u001b[0;34m)\u001b[0m\u001b[0;34m\u001b[0m\u001b[0;34m\u001b[0m\u001b[0m\n\u001b[1;32m   1069\u001b[0m \u001b[0;34m\u001b[0m\u001b[0m\n\u001b[0;32m-> 1070\u001b[0;31m     with get_handle(\n\u001b[0m\u001b[1;32m   1071\u001b[0m         \u001b[0mcontent_or_path\u001b[0m\u001b[0;34m,\u001b[0m \u001b[0;34m\"rb\"\u001b[0m\u001b[0;34m,\u001b[0m \u001b[0mstorage_options\u001b[0m\u001b[0;34m=\u001b[0m\u001b[0mstorage_options\u001b[0m\u001b[0;34m,\u001b[0m \u001b[0mis_text\u001b[0m\u001b[0;34m=\u001b[0m\u001b[0;32mFalse\u001b[0m\u001b[0;34m\u001b[0m\u001b[0;34m\u001b[0m\u001b[0m\n\u001b[1;32m   1072\u001b[0m     ) as handle:\n",
      "\u001b[0;32m/Applications/anaconda3/lib/python3.9/site-packages/pandas/io/common.py\u001b[0m in \u001b[0;36mget_handle\u001b[0;34m(path_or_buf, mode, encoding, compression, memory_map, is_text, errors, storage_options)\u001b[0m\n\u001b[1;32m    709\u001b[0m         \u001b[0;32melse\u001b[0m\u001b[0;34m:\u001b[0m\u001b[0;34m\u001b[0m\u001b[0;34m\u001b[0m\u001b[0m\n\u001b[1;32m    710\u001b[0m             \u001b[0;31m# Binary mode\u001b[0m\u001b[0;34m\u001b[0m\u001b[0;34m\u001b[0m\u001b[0m\n\u001b[0;32m--> 711\u001b[0;31m             \u001b[0mhandle\u001b[0m \u001b[0;34m=\u001b[0m \u001b[0mopen\u001b[0m\u001b[0;34m(\u001b[0m\u001b[0mhandle\u001b[0m\u001b[0;34m,\u001b[0m \u001b[0mioargs\u001b[0m\u001b[0;34m.\u001b[0m\u001b[0mmode\u001b[0m\u001b[0;34m)\u001b[0m\u001b[0;34m\u001b[0m\u001b[0;34m\u001b[0m\u001b[0m\n\u001b[0m\u001b[1;32m    712\u001b[0m         \u001b[0mhandles\u001b[0m\u001b[0;34m.\u001b[0m\u001b[0mappend\u001b[0m\u001b[0;34m(\u001b[0m\u001b[0mhandle\u001b[0m\u001b[0;34m)\u001b[0m\u001b[0;34m\u001b[0m\u001b[0;34m\u001b[0m\u001b[0m\n\u001b[1;32m    713\u001b[0m \u001b[0;34m\u001b[0m\u001b[0m\n",
      "\u001b[0;31mFileNotFoundError\u001b[0m: [Errno 2] No such file or directory: './Admissions_CLEAN.xlsx'"
     ]
    }
   ],
   "source": [
    "data = pd.read_excel(\"./Admissions_CLEAN.xlsx\")"
   ]
  },
  {
   "cell_type": "code",
   "execution_count": null,
   "metadata": {},
   "outputs": [],
   "source": [
    "data.columns"
   ]
  },
  {
   "cell_type": "code",
   "execution_count": null,
   "metadata": {},
   "outputs": [],
   "source": [
    "data = data[data[\"Decision Type\"] != 4] # delete withdraw type\n",
    "# UR decision\n",
    "# admit:1 - deny:0\n",
    "def func(x):\n",
    "    admit_number = {12, 16, 2, 6, 10, 13, 15, 17, 19, 22, 23, 7, 9, 18, 20, 11, 14, 21}\n",
    "    if x in admit_number:\n",
    "        return 1\n",
    "    else:\n",
    "        return 0  \n",
    "data[\"Admit\"] = data[\"Decision Type\"].apply(lambda x: func(x))"
   ]
  },
  {
   "cell_type": "code",
   "execution_count": null,
   "metadata": {},
   "outputs": [],
   "source": [
    "data['created_date'] = data['Created'].apply(lambda x: x.strftime('%m-%d'))\n",
    "data['submitted_date'] = data['Submitted'].apply(lambda x: x.strftime('%m-%d'))"
   ]
  },
  {
   "cell_type": "code",
   "execution_count": null,
   "metadata": {},
   "outputs": [],
   "source": [
    "a = data.groupby(['created_date']).size()\n",
    "b = data[data['Admit']==1].groupby(['created_date']).size()"
   ]
  },
  {
   "cell_type": "code",
   "execution_count": null,
   "metadata": {},
   "outputs": [],
   "source": [
    "c = (a.to_frame()).merge(b.to_frame(), left_on=a.index, right_on=b.index)\n",
    "c"
   ]
  },
  {
   "cell_type": "code",
   "execution_count": null,
   "metadata": {},
   "outputs": [],
   "source": [
    "c['percent'] = c.apply(lambda x: x['0_y']/x['0_x'], axis=1)\n",
    "c.head()"
   ]
  },
  {
   "cell_type": "code",
   "execution_count": null,
   "metadata": {},
   "outputs": [],
   "source": [
    "fig, ax = plt.subplots(figsize=(10,6))\n",
    "c[(c['percent'] > 0.6)&((c['key_0']>'11-01')|(c['key_0']<'02-15'))].plot(kind='bar', ax=ax, x='key_0', y='percent')\n",
    "plt.title(\"Admission Rate Based on Start Date\")\n",
    "plt.xlabel(\"Start Date\")\n",
    "plt.show()"
   ]
  },
  {
   "cell_type": "code",
   "execution_count": null,
   "metadata": {},
   "outputs": [],
   "source": [
    "a = data.groupby(['submitted_date']).size()\n",
    "b = data[data['Admit']==1].groupby(['submitted_date']).size()\n",
    "c = (a.to_frame()).merge(b.to_frame(), left_on=a.index, right_on=b.index)\n",
    "c['percent'] = c.apply(lambda x: x['0_y']/x['0_x'], axis=1)\n",
    "c.head()"
   ]
  },
  {
   "cell_type": "code",
   "execution_count": 30,
   "metadata": {},
   "outputs": [
    {
     "ename": "NameError",
     "evalue": "name 'c' is not defined",
     "output_type": "error",
     "traceback": [
      "\u001b[0;31m---------------------------------------------------------------------------\u001b[0m",
      "\u001b[0;31mNameError\u001b[0m                                 Traceback (most recent call last)",
      "\u001b[0;32m/var/folders/r9/ns6l9n4x0xl1ll5vm5cs1mlc0000gn/T/ipykernel_15904/2667902361.py\u001b[0m in \u001b[0;36m<module>\u001b[0;34m\u001b[0m\n\u001b[1;32m      1\u001b[0m \u001b[0mfig\u001b[0m\u001b[0;34m,\u001b[0m \u001b[0max\u001b[0m \u001b[0;34m=\u001b[0m \u001b[0mplt\u001b[0m\u001b[0;34m.\u001b[0m\u001b[0msubplots\u001b[0m\u001b[0;34m(\u001b[0m\u001b[0mfigsize\u001b[0m\u001b[0;34m=\u001b[0m\u001b[0;34m(\u001b[0m\u001b[0;36m10\u001b[0m\u001b[0;34m,\u001b[0m\u001b[0;36m6\u001b[0m\u001b[0;34m)\u001b[0m\u001b[0;34m)\u001b[0m\u001b[0;34m\u001b[0m\u001b[0;34m\u001b[0m\u001b[0m\n\u001b[0;32m----> 2\u001b[0;31m \u001b[0mc\u001b[0m\u001b[0;34m[\u001b[0m\u001b[0;34m(\u001b[0m\u001b[0mc\u001b[0m\u001b[0;34m[\u001b[0m\u001b[0;34m'percent'\u001b[0m\u001b[0;34m]\u001b[0m \u001b[0;34m>\u001b[0m \u001b[0;36m0.6\u001b[0m\u001b[0;34m)\u001b[0m\u001b[0;34m&\u001b[0m\u001b[0;34m(\u001b[0m\u001b[0;34m(\u001b[0m\u001b[0mc\u001b[0m\u001b[0;34m[\u001b[0m\u001b[0;34m'key_0'\u001b[0m\u001b[0;34m]\u001b[0m\u001b[0;34m>\u001b[0m\u001b[0;34m'11-01'\u001b[0m\u001b[0;34m)\u001b[0m\u001b[0;34m|\u001b[0m\u001b[0;34m(\u001b[0m\u001b[0mc\u001b[0m\u001b[0;34m[\u001b[0m\u001b[0;34m'key_0'\u001b[0m\u001b[0;34m]\u001b[0m\u001b[0;34m<\u001b[0m\u001b[0;34m'02-15'\u001b[0m\u001b[0;34m)\u001b[0m\u001b[0;34m)\u001b[0m\u001b[0;34m]\u001b[0m\u001b[0;34m.\u001b[0m\u001b[0mplot\u001b[0m\u001b[0;34m(\u001b[0m\u001b[0mkind\u001b[0m\u001b[0;34m=\u001b[0m\u001b[0;34m'bar'\u001b[0m\u001b[0;34m,\u001b[0m \u001b[0max\u001b[0m\u001b[0;34m=\u001b[0m\u001b[0max\u001b[0m\u001b[0;34m,\u001b[0m \u001b[0mx\u001b[0m\u001b[0;34m=\u001b[0m\u001b[0;34m'key_0'\u001b[0m\u001b[0;34m,\u001b[0m \u001b[0my\u001b[0m\u001b[0;34m=\u001b[0m\u001b[0;34m'percent'\u001b[0m\u001b[0;34m)\u001b[0m\u001b[0;34m\u001b[0m\u001b[0;34m\u001b[0m\u001b[0m\n\u001b[0m\u001b[1;32m      3\u001b[0m \u001b[0mplt\u001b[0m\u001b[0;34m.\u001b[0m\u001b[0mtitle\u001b[0m\u001b[0;34m(\u001b[0m\u001b[0;34m\"Admission Rate Based on End Dates\"\u001b[0m\u001b[0;34m)\u001b[0m\u001b[0;34m\u001b[0m\u001b[0;34m\u001b[0m\u001b[0m\n\u001b[1;32m      4\u001b[0m \u001b[0mplt\u001b[0m\u001b[0;34m.\u001b[0m\u001b[0mxlabel\u001b[0m\u001b[0;34m(\u001b[0m\u001b[0;34m\"End Date\"\u001b[0m\u001b[0;34m)\u001b[0m\u001b[0;34m\u001b[0m\u001b[0;34m\u001b[0m\u001b[0m\n\u001b[1;32m      5\u001b[0m \u001b[0mplt\u001b[0m\u001b[0;34m.\u001b[0m\u001b[0mshow\u001b[0m\u001b[0;34m(\u001b[0m\u001b[0;34m)\u001b[0m\u001b[0;34m\u001b[0m\u001b[0;34m\u001b[0m\u001b[0m\n",
      "\u001b[0;31mNameError\u001b[0m: name 'c' is not defined"
     ]
    },
    {
     "data": {
      "image/png": "[encoded data removed]",
      "text/plain": [
       "<Figure size 720x432 with 1 Axes>"
      ]
     },
     "metadata": {
      "needs_background": "light"
     },
     "output_type": "display_data"
    }
   ],
   "source": [
    "fig, ax = plt.subplots(figsize=(10,6))\n",
    "c[(c['percent'] > 0.6)&((c['key_0']>'11-01')|(c['key_0']<'02-15'))].plot(kind='bar', ax=ax, x='key_0', y='percent')\n",
    "plt.title(\"Admission Rate Based on End Dates\")\n",
    "plt.xlabel(\"End Date\")\n",
    "plt.show()"
   ]
  },
  {
   "cell_type": "code",
   "execution_count": null,
   "metadata": {},
   "outputs": [],
   "source": [
    "#####"
   ]
  },
  {
   "cell_type": "code",
   "execution_count": 87,
   "metadata": {},
   "outputs": [
    {
     "data": {
      "text/html": [
       "<div>\n",
       "<style scoped>\n",
       "    .dataframe tbody tr th:only-of-type {\n",
       "        vertical-align: middle;\n",
       "    }\n",
       "\n",
       "    .dataframe tbody tr th {\n",
       "        vertical-align: top;\n",
       "    }\n",
       "\n",
       "    .dataframe thead th {\n",
       "        text-align: right;\n",
       "    }\n",
       "</style>\n",
       "<table border=\"1\" class=\"dataframe\">\n",
       "  <thead>\n",
       "    <tr style=\"text-align: right;\">\n",
       "      <th></th>\n",
       "      <th>Ref</th>\n",
       "      <th>Application Ref</th>\n",
       "      <th>Sex</th>\n",
       "      <th>Gender Identity</th>\n",
       "      <th>Birth State</th>\n",
       "      <th>Birth Country</th>\n",
       "      <th>Age at App Submission</th>\n",
       "      <th>Age</th>\n",
       "      <th>Native Language</th>\n",
       "      <th>Citizenship</th>\n",
       "      <th>...</th>\n",
       "      <th>Application Year</th>\n",
       "      <th>Previously Applied?</th>\n",
       "      <th>Current Student?</th>\n",
       "      <th>Currently Employed?</th>\n",
       "      <th>Created</th>\n",
       "      <th>Updated</th>\n",
       "      <th>Submitted</th>\n",
       "      <th>Race</th>\n",
       "      <th>submit_delta</th>\n",
       "      <th>Status</th>\n",
       "    </tr>\n",
       "  </thead>\n",
       "  <tbody>\n",
       "    <tr>\n",
       "      <th>0</th>\n",
       "      <td>588854023</td>\n",
       "      <td>889525867</td>\n",
       "      <td>M</td>\n",
       "      <td>NaN</td>\n",
       "      <td>Greater Accra</td>\n",
       "      <td>GH</td>\n",
       "      <td>27.0</td>\n",
       "      <td>34.0</td>\n",
       "      <td>EN</td>\n",
       "      <td>FN</td>\n",
       "      <td>...</td>\n",
       "      <td>NaN</td>\n",
       "      <td>No</td>\n",
       "      <td>No</td>\n",
       "      <td>No</td>\n",
       "      <td>2015-03-11 09:13:07</td>\n",
       "      <td>2018-05-22 16:38:49</td>\n",
       "      <td>2015-03-11 09:13:07</td>\n",
       "      <td>Black or African American</td>\n",
       "      <td>0.0</td>\n",
       "      <td>Submit</td>\n",
       "    </tr>\n",
       "    <tr>\n",
       "      <th>1</th>\n",
       "      <td>886205496</td>\n",
       "      <td>36341133</td>\n",
       "      <td>M</td>\n",
       "      <td>NaN</td>\n",
       "      <td>NY</td>\n",
       "      <td>US</td>\n",
       "      <td>21.0</td>\n",
       "      <td>27.0</td>\n",
       "      <td>EN</td>\n",
       "      <td>US</td>\n",
       "      <td>...</td>\n",
       "      <td>2011.0</td>\n",
       "      <td>Yes</td>\n",
       "      <td>Yes</td>\n",
       "      <td>No</td>\n",
       "      <td>2015-04-14 13:04:12</td>\n",
       "      <td>2018-05-22 16:29:07</td>\n",
       "      <td>2015-05-02 08:25:02</td>\n",
       "      <td>White</td>\n",
       "      <td>17.0</td>\n",
       "      <td>Submit</td>\n",
       "    </tr>\n",
       "    <tr>\n",
       "      <th>2</th>\n",
       "      <td>316770319</td>\n",
       "      <td>57598185</td>\n",
       "      <td>F</td>\n",
       "      <td>NaN</td>\n",
       "      <td>IA</td>\n",
       "      <td>US</td>\n",
       "      <td>26.0</td>\n",
       "      <td>33.0</td>\n",
       "      <td>EN</td>\n",
       "      <td>US</td>\n",
       "      <td>...</td>\n",
       "      <td>2010.0</td>\n",
       "      <td>Yes</td>\n",
       "      <td>Yes</td>\n",
       "      <td>Yes</td>\n",
       "      <td>2015-03-23 16:34:54</td>\n",
       "      <td>2020-02-04 12:46:32</td>\n",
       "      <td>2015-04-24 09:53:50</td>\n",
       "      <td>White</td>\n",
       "      <td>31.0</td>\n",
       "      <td>Submit</td>\n",
       "    </tr>\n",
       "    <tr>\n",
       "      <th>3</th>\n",
       "      <td>489498029</td>\n",
       "      <td>189462065</td>\n",
       "      <td>M</td>\n",
       "      <td>NaN</td>\n",
       "      <td>SC</td>\n",
       "      <td>US</td>\n",
       "      <td>NaN</td>\n",
       "      <td>40.0</td>\n",
       "      <td>EN</td>\n",
       "      <td>US</td>\n",
       "      <td>...</td>\n",
       "      <td>NaN</td>\n",
       "      <td>No</td>\n",
       "      <td>No</td>\n",
       "      <td>No</td>\n",
       "      <td>2015-03-11 20:57:17</td>\n",
       "      <td>2018-05-22 16:38:49</td>\n",
       "      <td>NaT</td>\n",
       "      <td>Black or African American</td>\n",
       "      <td>NaN</td>\n",
       "      <td>Didn't submit</td>\n",
       "    </tr>\n",
       "    <tr>\n",
       "      <th>4</th>\n",
       "      <td>288691498</td>\n",
       "      <td>624523937</td>\n",
       "      <td>M</td>\n",
       "      <td>NaN</td>\n",
       "      <td>MA</td>\n",
       "      <td>US</td>\n",
       "      <td>22.0</td>\n",
       "      <td>28.0</td>\n",
       "      <td>EN</td>\n",
       "      <td>US</td>\n",
       "      <td>...</td>\n",
       "      <td>2011.0</td>\n",
       "      <td>Yes</td>\n",
       "      <td>Yes</td>\n",
       "      <td>Yes</td>\n",
       "      <td>2015-03-31 19:30:32</td>\n",
       "      <td>2018-05-22 16:29:07</td>\n",
       "      <td>2015-05-01 17:25:26</td>\n",
       "      <td>White</td>\n",
       "      <td>30.0</td>\n",
       "      <td>Submit</td>\n",
       "    </tr>\n",
       "  </tbody>\n",
       "</table>\n",
       "<p>5 rows × 22 columns</p>\n",
       "</div>"
      ],
      "text/plain": [
       "         Ref  Application Ref Sex Gender Identity    Birth State  \\\n",
       "0  588854023        889525867   M             NaN  Greater Accra   \n",
       "1  886205496         36341133   M             NaN             NY   \n",
       "2  316770319         57598185   F             NaN             IA   \n",
       "3  489498029        189462065   M             NaN             SC   \n",
       "4  288691498        624523937   M             NaN             MA   \n",
       "\n",
       "  Birth Country  Age at App Submission   Age Native Language Citizenship  ...  \\\n",
       "0            GH                   27.0  34.0              EN          FN  ...   \n",
       "1            US                   21.0  27.0              EN          US  ...   \n",
       "2            US                   26.0  33.0              EN          US  ...   \n",
       "3            US                    NaN  40.0              EN          US  ...   \n",
       "4            US                   22.0  28.0              EN          US  ...   \n",
       "\n",
       "  Application Year Previously Applied?  Current Student? Currently Employed?  \\\n",
       "0              NaN                  No                No                  No   \n",
       "1           2011.0                 Yes               Yes                  No   \n",
       "2           2010.0                 Yes               Yes                 Yes   \n",
       "3              NaN                  No                No                  No   \n",
       "4           2011.0                 Yes               Yes                 Yes   \n",
       "\n",
       "              Created             Updated           Submitted  \\\n",
       "0 2015-03-11 09:13:07 2018-05-22 16:38:49 2015-03-11 09:13:07   \n",
       "1 2015-04-14 13:04:12 2018-05-22 16:29:07 2015-05-02 08:25:02   \n",
       "2 2015-03-23 16:34:54 2020-02-04 12:46:32 2015-04-24 09:53:50   \n",
       "3 2015-03-11 20:57:17 2018-05-22 16:38:49                 NaT   \n",
       "4 2015-03-31 19:30:32 2018-05-22 16:29:07 2015-05-01 17:25:26   \n",
       "\n",
       "                        Race submit_delta         Status  \n",
       "0  Black or African American          0.0         Submit  \n",
       "1                      White         17.0         Submit  \n",
       "2                      White         31.0         Submit  \n",
       "3  Black or African American          NaN  Didn't submit  \n",
       "4                      White         30.0         Submit  \n",
       "\n",
       "[5 rows x 22 columns]"
      ]
     },
     "execution_count": 87,
     "metadata": {},
     "output_type": "execute_result"
    }
   ],
   "source": [
    "portrait_df.head()"
   ]
  },
  {
   "cell_type": "code",
   "execution_count": 88,
   "metadata": {},
   "outputs": [],
   "source": [
    "nosub = portrait_df[portrait_df['Status']==\"Didn't submit\"]"
   ]
  },
  {
   "cell_type": "code",
   "execution_count": 89,
   "metadata": {},
   "outputs": [
    {
     "data": {
      "text/html": [
       "<div>\n",
       "<style scoped>\n",
       "    .dataframe tbody tr th:only-of-type {\n",
       "        vertical-align: middle;\n",
       "    }\n",
       "\n",
       "    .dataframe tbody tr th {\n",
       "        vertical-align: top;\n",
       "    }\n",
       "\n",
       "    .dataframe thead th {\n",
       "        text-align: right;\n",
       "    }\n",
       "</style>\n",
       "<table border=\"1\" class=\"dataframe\">\n",
       "  <thead>\n",
       "    <tr style=\"text-align: right;\">\n",
       "      <th></th>\n",
       "      <th>Ref</th>\n",
       "      <th>Application Ref</th>\n",
       "      <th>Sex</th>\n",
       "      <th>Gender Identity</th>\n",
       "      <th>Birth State</th>\n",
       "      <th>Birth Country</th>\n",
       "      <th>Age at App Submission</th>\n",
       "      <th>Age</th>\n",
       "      <th>Native Language</th>\n",
       "      <th>Citizenship</th>\n",
       "      <th>...</th>\n",
       "      <th>Application Year</th>\n",
       "      <th>Previously Applied?</th>\n",
       "      <th>Current Student?</th>\n",
       "      <th>Currently Employed?</th>\n",
       "      <th>Created</th>\n",
       "      <th>Updated</th>\n",
       "      <th>Submitted</th>\n",
       "      <th>Race</th>\n",
       "      <th>submit_delta</th>\n",
       "      <th>Status</th>\n",
       "    </tr>\n",
       "  </thead>\n",
       "  <tbody>\n",
       "    <tr>\n",
       "      <th>3</th>\n",
       "      <td>489498029</td>\n",
       "      <td>189462065</td>\n",
       "      <td>M</td>\n",
       "      <td>NaN</td>\n",
       "      <td>SC</td>\n",
       "      <td>US</td>\n",
       "      <td>NaN</td>\n",
       "      <td>40.0</td>\n",
       "      <td>EN</td>\n",
       "      <td>US</td>\n",
       "      <td>...</td>\n",
       "      <td>NaN</td>\n",
       "      <td>No</td>\n",
       "      <td>No</td>\n",
       "      <td>No</td>\n",
       "      <td>2015-03-11 20:57:17</td>\n",
       "      <td>2018-05-22 16:38:49</td>\n",
       "      <td>NaT</td>\n",
       "      <td>Black or African American</td>\n",
       "      <td>NaN</td>\n",
       "      <td>Didn't submit</td>\n",
       "    </tr>\n",
       "    <tr>\n",
       "      <th>35</th>\n",
       "      <td>59679965</td>\n",
       "      <td>433395122</td>\n",
       "      <td>M</td>\n",
       "      <td>NaN</td>\n",
       "      <td>NaN</td>\n",
       "      <td>US</td>\n",
       "      <td>NaN</td>\n",
       "      <td>26.0</td>\n",
       "      <td>NaN</td>\n",
       "      <td>FN</td>\n",
       "      <td>...</td>\n",
       "      <td>NaN</td>\n",
       "      <td>No</td>\n",
       "      <td>No</td>\n",
       "      <td>No</td>\n",
       "      <td>2016-03-22 17:13:27</td>\n",
       "      <td>2018-05-22 16:29:07</td>\n",
       "      <td>NaT</td>\n",
       "      <td>NaN</td>\n",
       "      <td>NaN</td>\n",
       "      <td>Didn't submit</td>\n",
       "    </tr>\n",
       "    <tr>\n",
       "      <th>53</th>\n",
       "      <td>967216886</td>\n",
       "      <td>169323925</td>\n",
       "      <td>M</td>\n",
       "      <td>NaN</td>\n",
       "      <td>NaN</td>\n",
       "      <td>US</td>\n",
       "      <td>NaN</td>\n",
       "      <td>26.0</td>\n",
       "      <td>NaN</td>\n",
       "      <td>FN</td>\n",
       "      <td>...</td>\n",
       "      <td>NaN</td>\n",
       "      <td>No</td>\n",
       "      <td>No</td>\n",
       "      <td>No</td>\n",
       "      <td>2016-03-21 18:43:19</td>\n",
       "      <td>2018-05-22 16:38:49</td>\n",
       "      <td>NaT</td>\n",
       "      <td>NaN</td>\n",
       "      <td>NaN</td>\n",
       "      <td>Didn't submit</td>\n",
       "    </tr>\n",
       "    <tr>\n",
       "      <th>68</th>\n",
       "      <td>515060754</td>\n",
       "      <td>731621550</td>\n",
       "      <td>M</td>\n",
       "      <td>NaN</td>\n",
       "      <td>TX</td>\n",
       "      <td>US</td>\n",
       "      <td>NaN</td>\n",
       "      <td>28.0</td>\n",
       "      <td>EN</td>\n",
       "      <td>US</td>\n",
       "      <td>...</td>\n",
       "      <td>NaN</td>\n",
       "      <td>No</td>\n",
       "      <td>No</td>\n",
       "      <td>No</td>\n",
       "      <td>2015-09-21 10:34:06</td>\n",
       "      <td>2018-05-22 16:38:49</td>\n",
       "      <td>NaT</td>\n",
       "      <td>NaN</td>\n",
       "      <td>NaN</td>\n",
       "      <td>Didn't submit</td>\n",
       "    </tr>\n",
       "    <tr>\n",
       "      <th>77</th>\n",
       "      <td>832949458</td>\n",
       "      <td>460142816</td>\n",
       "      <td>NaN</td>\n",
       "      <td>NaN</td>\n",
       "      <td>NaN</td>\n",
       "      <td>US</td>\n",
       "      <td>NaN</td>\n",
       "      <td>30.0</td>\n",
       "      <td>NaN</td>\n",
       "      <td>FN</td>\n",
       "      <td>...</td>\n",
       "      <td>NaN</td>\n",
       "      <td>No</td>\n",
       "      <td>No</td>\n",
       "      <td>No</td>\n",
       "      <td>2015-10-27 05:00:45</td>\n",
       "      <td>2018-05-22 16:38:49</td>\n",
       "      <td>NaT</td>\n",
       "      <td>NaN</td>\n",
       "      <td>NaN</td>\n",
       "      <td>Didn't submit</td>\n",
       "    </tr>\n",
       "  </tbody>\n",
       "</table>\n",
       "<p>5 rows × 22 columns</p>\n",
       "</div>"
      ],
      "text/plain": [
       "          Ref  Application Ref  Sex Gender Identity Birth State Birth Country  \\\n",
       "3   489498029        189462065    M             NaN          SC            US   \n",
       "35   59679965        433395122    M             NaN         NaN            US   \n",
       "53  967216886        169323925    M             NaN         NaN            US   \n",
       "68  515060754        731621550    M             NaN          TX            US   \n",
       "77  832949458        460142816  NaN             NaN         NaN            US   \n",
       "\n",
       "    Age at App Submission   Age Native Language Citizenship  ...  \\\n",
       "3                     NaN  40.0              EN          US  ...   \n",
       "35                    NaN  26.0             NaN          FN  ...   \n",
       "53                    NaN  26.0             NaN          FN  ...   \n",
       "68                    NaN  28.0              EN          US  ...   \n",
       "77                    NaN  30.0             NaN          FN  ...   \n",
       "\n",
       "   Application Year Previously Applied?  Current Student? Currently Employed?  \\\n",
       "3               NaN                  No                No                  No   \n",
       "35              NaN                  No                No                  No   \n",
       "53              NaN                  No                No                  No   \n",
       "68              NaN                  No                No                  No   \n",
       "77              NaN                  No                No                  No   \n",
       "\n",
       "               Created             Updated Submitted  \\\n",
       "3  2015-03-11 20:57:17 2018-05-22 16:38:49       NaT   \n",
       "35 2016-03-22 17:13:27 2018-05-22 16:29:07       NaT   \n",
       "53 2016-03-21 18:43:19 2018-05-22 16:38:49       NaT   \n",
       "68 2015-09-21 10:34:06 2018-05-22 16:38:49       NaT   \n",
       "77 2015-10-27 05:00:45 2018-05-22 16:38:49       NaT   \n",
       "\n",
       "                         Race submit_delta         Status  \n",
       "3   Black or African American          NaN  Didn't submit  \n",
       "35                        NaN          NaN  Didn't submit  \n",
       "53                        NaN          NaN  Didn't submit  \n",
       "68                        NaN          NaN  Didn't submit  \n",
       "77                        NaN          NaN  Didn't submit  \n",
       "\n",
       "[5 rows x 22 columns]"
      ]
     },
     "execution_count": 89,
     "metadata": {},
     "output_type": "execute_result"
    }
   ],
   "source": [
    "nosub = nosub[nosub['Birth Country'] == 'US']\n",
    "nosub.head()\n"
   ]
  },
  {
   "cell_type": "code",
   "execution_count": 51,
   "metadata": {},
   "outputs": [
    {
     "data": {
      "text/plain": [
       "192"
      ]
     },
     "execution_count": 51,
     "metadata": {},
     "output_type": "execute_result"
    }
   ],
   "source": [
    "nosub.shape[0]"
   ]
  },
  {
   "cell_type": "code",
   "execution_count": 55,
   "metadata": {},
   "outputs": [
    {
     "data": {
      "text/plain": [
       "Age\n",
       "26.0    27\n",
       "23.0    22\n",
       "24.0    21\n",
       "25.0    21\n",
       "22.0    20\n",
       "28.0    17\n",
       "27.0    16\n",
       "30.0     8\n",
       "21.0     7\n",
       "32.0     5\n",
       "29.0     5\n",
       "34.0     4\n",
       "31.0     3\n",
       "35.0     3\n",
       "37.0     3\n",
       "40.0     3\n",
       "33.0     1\n",
       "36.0     1\n",
       "38.0     1\n",
       "41.0     1\n",
       "43.0     1\n",
       "49.0     1\n",
       "52.0     1\n",
       "dtype: int64"
      ]
     },
     "execution_count": 55,
     "metadata": {},
     "output_type": "execute_result"
    }
   ],
   "source": [
    "nosub.groupby(['Age']).size().sort_values(ascending=False)"
   ]
  },
  {
   "cell_type": "code",
   "execution_count": 94,
   "metadata": {},
   "outputs": [
    {
     "data": {
      "image/png": "[encoded data removed]",
      "text/plain": [
       "<Figure size 432x432 with 1 Axes>"
      ]
     },
     "metadata": {},
     "output_type": "display_data"
    }
   ],
   "source": [
    "y = np.array([91, 73,  (192-91-73)])\n",
    "mylabels = [\"Age between 21-25\", \"Age between 26-30\", \"Age of 31 and Older\"]\n",
    "myexplode = [0.1, 0]\n",
    "fig, ax = plt.subplots(figsize=(6,6))\n",
    "plt.pie(y, labels = mylabels, explode = None, autopct='%1.0f%%')\n",
    "plt.title(\"US Applicants Who do not Submit (By Age)\")\n",
    "plt.show() "
   ]
  },
  {
   "cell_type": "code",
   "execution_count": 61,
   "metadata": {},
   "outputs": [
    {
     "data": {
      "text/plain": [
       "Sex\n",
       "M    64\n",
       "F    29\n",
       "dtype: int64"
      ]
     },
     "execution_count": 61,
     "metadata": {},
     "output_type": "execute_result"
    }
   ],
   "source": [
    "nosub.groupby(['Sex']).size().sort_values(ascending=False)"
   ]
  },
  {
   "cell_type": "code",
   "execution_count": 93,
   "metadata": {},
   "outputs": [
    {
     "data": {
      "image/png": "[encoded data removed]",
      "text/plain": [
       "<Figure size 432x432 with 1 Axes>"
      ]
     },
     "metadata": {},
     "output_type": "display_data"
    }
   ],
   "source": [
    "y = np.array([64,29])\n",
    "mylabels = [\"Male\", \"Female\"]\n",
    "myexplode = [0.1, 0]\n",
    "fig, ax = plt.subplots(figsize=(6,6))\n",
    "plt.pie(y, labels = mylabels, explode = None, autopct='%1.0f%%')\n",
    "plt.title(\"US Applicants Who do not Submit (By Gender)\")\n",
    "plt.show() "
   ]
  },
  {
   "cell_type": "code",
   "execution_count": 66,
   "metadata": {},
   "outputs": [
    {
     "data": {
      "text/plain": [
       "Currently Employed?\n",
       "No     187\n",
       "Yes      5\n",
       "dtype: int64"
      ]
     },
     "execution_count": 66,
     "metadata": {},
     "output_type": "execute_result"
    }
   ],
   "source": [
    "nosub.groupby(['Currently Employed?']).size().sort_values(ascending=False)"
   ]
  },
  {
   "cell_type": "code",
   "execution_count": 95,
   "metadata": {},
   "outputs": [
    {
     "data": {
      "image/png": "[encoded data removed]",
      "text/plain": [
       "<Figure size 432x432 with 1 Axes>"
      ]
     },
     "metadata": {},
     "output_type": "display_data"
    }
   ],
   "source": [
    "y = np.array([187,5])\n",
    "mylabels = [\"Non-employed\", \"Employed\"]\n",
    "myexplode = [0.1, 0]\n",
    "fig, ax = plt.subplots(figsize=(6,6))\n",
    "plt.pie(y, labels = mylabels, explode = None, autopct='%1.0f%%')\n",
    "plt.title(\"US Applicants Who do not Submit (By Employment)\")\n",
    "plt.show() "
   ]
  },
  {
   "cell_type": "code",
   "execution_count": 68,
   "metadata": {},
   "outputs": [
    {
     "data": {
      "text/plain": [
       "Current Student?\n",
       "No     184\n",
       "Yes      8\n",
       "dtype: int64"
      ]
     },
     "execution_count": 68,
     "metadata": {},
     "output_type": "execute_result"
    }
   ],
   "source": [
    "nosub.groupby(['Current Student?']).size().sort_values(ascending=False)"
   ]
  },
  {
   "cell_type": "code",
   "execution_count": 96,
   "metadata": {},
   "outputs": [
    {
     "data": {
      "image/png": "[encoded data removed]",
      "text/plain": [
       "<Figure size 432x432 with 1 Axes>"
      ]
     },
     "metadata": {},
     "output_type": "display_data"
    }
   ],
   "source": [
    "y = np.array([184,8])\n",
    "mylabels = [\"Not a Current Student\", \"A Current Student\"]\n",
    "myexplode = [0.1, 0]\n",
    "fig, ax = plt.subplots(figsize=(6,6))\n",
    "plt.pie(y, labels = mylabels, explode = None, autopct='%1.0f%%')\n",
    "plt.title(\"US Applicants Who do not Submit (By If a Current Student)\")\n",
    "plt.show() "
   ]
  },
  {
   "cell_type": "code",
   "execution_count": null,
   "metadata": {},
   "outputs": [],
   "source": [
    "y = np.array([64,29])\n",
    "mylabels = [\"Male\", \"Female\"]\n",
    "myexplode = [0.1, 0]\n",
    "fig, ax = plt.subplots(figsize=(6,6))\n",
    "plt.pie(y, labels = mylabels, explode = myexplode, autopct='%1.0f%%')\n",
    "plt.title(\"Distribution of Applicants (US)\")\n",
    "plt.show() "
   ]
  },
  {
   "cell_type": "code",
   "execution_count": 91,
   "metadata": {},
   "outputs": [
    {
     "data": {
      "text/plain": [
       "Area of Interest\n",
       "Health and biomedical sciences                                                                                                                                                                                                                                                                                                                                                                                                                                                                                                                                                                                                                                                                                                                                                                                                                                                                                                           2\n",
       "Computational and Statistical Methods                                                                                                                                                                                                                                                                                                                                                                                                                                                                                                                                                                                                                                                                                                                                                                                                                                                                                                    2\n",
       "AI                                                                                                                                                                                                                                                                                                                                                                                                                                                                                                                                                                                                                                                                                                                                                                                                                                                                                                                                       1\n",
       "My top choice in regards to a field of interest would be Computational and Statistical Methods. However, I am also interested in the Business and Social Science area of Data Science.                                                                                                                                                                                                                                                                                                                                                                                                                                                                                                                                                                                                                                                                                                                                                   1\n",
       "I am interested in computational and statistical methods. In particular I would like to focus on machine learning, AI and machine vision.                                                                                                                                                                                                                                                                                                                                                                                                                                                                                                                                                                                                                                                                                                                                                                                                1\n",
       "I am most interested in computational neuroscience/biology.                                                                                                                                                                                                                                                                                                                                                                                                                                                                                                                                                                                                                                                                                                                                                                                                                                                                              1\n",
       "I currently work in health research and have been fascinated by database design and management. I'm currently most interested in learning more about database systems, implementation of databases, and maintenance in relation to research and other data dependent sciences. I would  also like to gain deeper understanding of computational statistics.                                                                                                                                                                                                                                                                                                                                                                                                                                                                                                                                                                              1\n",
       "Intelligence whether it is for national security, law enforcement, or business requires expertise in data mining. Extracting meaningful information from that helps reduce the uncertainty for decision-makers. Looking through the course catalog I’m very interested in the courses offered and believe they will aid me in achieving this. Courses of interest include Time Series Analysis & Forecasting in Data Science, Detection Estimation Theory, and Geospatial Data Analysis. I feel many of these courses will add to a repertoire of skills that any decision-maker will find indispensable. In the past I have worked with the National Geospatial Agency and understand the importance of what accurate and in depth statistical data analysis can provide.  Many of these courses coincide with my previous work experience and education, however they provide a much more in-depth focus that interests me greatly.    1\n",
       "Machine Vision, Natural Language Processing                                                                                                                                                                                                                                                                                                                                                                                                                                                                                                                                                                                                                                                                                                                                                                                                                                                                                              1\n",
       "Machine learning and computational linguistics                                                                                                                                                                                                                                                                                                                                                                                                                                                                                                                                                                                                                                                                                                                                                                                                                                                                                           1\n",
       "Methods, Tools, and Infrastructure                                                                                                                                                                                                                                                                                                                                                                                                                                                                                                                                                                                                                                                                                                                                                                                                                                                                                                       1\n",
       "NOT DECIDED                                                                                                                                                                                                                                                                                                                                                                                                                                                                                                                                                                                                                                                                                                                                                                                                                                                                                                                              1\n",
       "I am especially interested in predictive analytics, but I would like to explore some courses in the statistics sub-category, such as AI, machine learning and forecasting.                                                                                                                                                                                                                                                                                                                                                                                                                                                                                                                                                                                                                                                                                                                                                               1\n",
       "Quantitative Trading/Investing, Machine Learning & Artificial Intelligence                                                                                                                                                                                                                                                                                                                                                                                                                                                                                                                                                                                                                                                                                                                                                                                                                                                               1\n",
       "Social Media Analytics, Business Intelligence and Analytics, Data Management                                                                                                                                                                                                                                                                                                                                                                                                                                                                                                                                                                                                                                                                                                                                                                                                                                                             1\n",
       "Statistical inference in biological systems. Gene - phenotype interactions. Predicting patient level outcomes and best course of treatment based on patient parameters.\\n\\nSpecifically the areas of research for (taken from the program website):\\nDr. Robert Strawderman\\nDr. Derick Peterson\\nDr. Changyong Feng\\nDr. Sally Thurston\\nDr. Tongtong Wu\\nDr. Tanzy Love\\n\\nAll of their fields of interests seem interesting to me                                                                                                                                                                                                                                                                                                                                                                                                                                                                                                     1\n",
       "The Brain and Efficient Communication                                                                                                                                                                                                                                                                                                                                                                                                                                                                                                                                                                                                                                                                                                                                                                                                                                                                                                    1\n",
       "Time series                                                                                                                                                                                                                                                                                                                                                                                                                                                                                                                                                                                                                                                                                                                                                                                                                                                                                                                              1\n",
       "ba                                                                                                                                                                                                                                                                                                                                                                                                                                                                                                                                                                                                                                                                                                                                                                                                                                                                                                                                       1\n",
       "health analytics                                                                                                                                                                                                                                                                                                                                                                                                                                                                                                                                                                                                                                                                                                                                                                                                                                                                                                                         1\n",
       "I am extremely interested in the                                                                                                                                                                                                                                                                                                                                                                                                                                                                                                                                                                                                                                                                                                                                                                                                                                                                                                         1\n",
       "Human Behavior\\nSocial Media\\nTools for Data Science\\nData Mining\\nBusiness Analytics                                                                                                                                                                                                                                                                                                                                                                                                                                                                                                                                                                                                                                                                                                                                                                                                                                                    1\n",
       "Advanced Business Modeling & Analytics                                                                                                                                                                                                                                                                                                                                                                                                                                                                                                                                                                                                                                                                                                                                                                                                                                                                                                   1\n",
       "Health,Business,Artificial Intelligence/Machine Learning                                                                                                                                                                                                                                                                                                                                                                                                                                                                                                                                                                                                                                                                                                                                                                                                                                                                                 1\n",
       "Artificial Intelligence                                                                                                                                                                                                                                                                                                                                                                                                                                                                                                                                                                                                                                                                                                                                                                                                                                                                                                                  1\n",
       "Artificial Intelligence\\nStatistical Learning etc.                                                                                                                                                                                                                                                                                                                                                                                                                                                                                                                                                                                                                                                                                                                                                                                                                                                                                       1\n",
       "Artificial Intelligence, Machine Learning                                                                                                                                                                                                                                                                                                                                                                                                                                                                                                                                                                                                                                                                                                                                                                                                                                                                                                1\n",
       "As a business student, I’m constantly fascinated by the ever expanding and increasingly valuable resource that is data. I have a strong interest in helping companies manage and analyze large quantities of data to best develop products and services to meet customer needs. My curiosity particularly lies within the technology and education sectors. The Business and Social Science track very closely aligns with my goals.                                                                                                                                                                                                                                                                                                                                                                                                                                                                                                     1\n",
       "Business and Social Science                                                                                                                                                                                                                                                                                                                                                                                                                                                                                                                                                                                                                                                                                                                                                                                                                                                                                                              1\n",
       "Business and social science and Computational methods interest me the most.                                                                                                                                                                                                                                                                                                                                                                                                                                                                                                                                                                                                                                                                                                                                                                                                                                                              1\n",
       "Business and social sciences interest me but my current employment lends itself to health and biomedical sciences as well. Economics/ Development, Public Policy are also strong areas of interest                                                                                                                                                                                                                                                                                                                                                                                                                                                                                                                                                                                                                                                                                                                                       1\n",
       "Computational and statistical methods                                                                                                                                                                                                                                                                                                                                                                                                                                                                                                                                                                                                                                                                                                                                                                                                                                                                                                    1\n",
       "Computational methods                                                                                                                                                                                                                                                                                                                                                                                                                                                                                                                                                                                                                                                                                                                                                                                                                                                                                                                    1\n",
       "Data Mining;Business and Social Science                                                                                                                                                                                                                                                                                                                                                                                                                                                                                                                                                                                                                                                                                                                                                                                                                                                                                                  1\n",
       "Digital Imaging, Machine Vision, Artificial Intelligence, Machine Learning and Deep Learning                                                                                                                                                                                                                                                                                                                                                                                                                                                                                                                                                                                                                                                                                                                                                                                                                                             1\n",
       "Economics                                                                                                                                                                                                                                                                                                                                                                                                                                                                                                                                                                                                                                                                                                                                                                                                                                                                                                                                1\n",
       "Economics, statistics, and political science.                                                                                                                                                                                                                                                                                                                                                                                                                                                                                                                                                                                                                                                                                                                                                                                                                                                                                            1\n",
       "Game theory, machine learning, econometrics                                                                                                                                                                                                                                                                                                                                                                                                                                                                                                                                                                                                                                                                                                                                                                                                                                                                                              1\n",
       "Health and Biomedical Sciences                                                                                                                                                                                                                                                                                                                                                                                                                                                                                                                                                                                                                                                                                                                                                                                                                                                                                                           1\n",
       "•Business and social science                                                                                                                                                                                                                                                                                                                                                                                                                                                                                                                                                                                                                                                                                                                                                                                                                                                                                                             1\n",
       "dtype: int64"
      ]
     },
     "execution_count": 91,
     "metadata": {},
     "output_type": "execute_result"
    }
   ],
   "source": [
    "nosub.groupby(['Area of Interest']).size().sort_values(ascending=False)"
   ]
  },
  {
   "cell_type": "code",
   "execution_count": null,
   "metadata": {},
   "outputs": [],
   "source": []
  }
 ],
 "metadata": {
  "interpreter": {
   "hash": "abdfcdbf0cc150c2b35a1d7b3b320d864d1ce2de9abec3596b0a554cf3b8aeec"
  },
  "kernelspec": {
   "display_name": "Python 3 (ipykernel)",
   "language": "python",
   "name": "python3"
  },
  "language_info": {
   "codemirror_mode": {
    "name": "ipython",
    "version": 3
   },
   "file_extension": ".py",
   "mimetype": "text/x-python",
   "name": "python",
   "nbconvert_exporter": "python",
   "pygments_lexer": "ipython3",
   "version": "3.8.0"
  },
  "toc": {
   "base_numbering": 1,
   "nav_menu": {},
   "number_sections": true,
   "sideBar": true,
   "skip_h1_title": false,
   "title_cell": "Table of Contents",
   "title_sidebar": "Contents",
   "toc_cell": false,
   "toc_position": {},
   "toc_section_display": true,
   "toc_window_display": false
  }
 },
 "nbformat": 4,
 "nbformat_minor": 2
}
