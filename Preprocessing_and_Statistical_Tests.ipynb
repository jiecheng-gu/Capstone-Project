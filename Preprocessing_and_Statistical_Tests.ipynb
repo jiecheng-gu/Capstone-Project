{
  "cells": [
    {
      "cell_type": "code",
      "execution_count": null,
      "metadata": {
        "id": "-f0pWrBgehWu"
      },
      "outputs": [],
      "source": [
        "import pandas as pd\n",
        "import numpy as np\n",
        "import matplotlib.pyplot as plt\n",
        "import datetime"
      ]
    },
    {
      "cell_type": "markdown",
      "metadata": {},
      "source": [
        "# Data Preprocessing - clearinghouse data"
      ]
    },
    {
      "cell_type": "code",
      "execution_count": null,
      "metadata": {
        "id": "9c3v5xare2L6"
      },
      "outputs": [],
      "source": [
        "rankings = pd.read_excel(\"2022BC-national-universities.xlsx\")\n",
        "ch13_18 = pd.read_excel(\"Clearinghouse2013to2018.xlsx\", dtype=str)\n",
        "ch_20 = pd.read_excel(\"CH_20.xlsx\", dtype=str)\n",
        "ch_21 = pd.read_excel(\"CH_21.xlsx\", dtype=str)"
      ]
    },
    {
      "cell_type": "code",
      "execution_count": null,
      "metadata": {
        "id": "yRQNBkU20xCm"
      },
      "outputs": [],
      "source": [
        "ch_20[\"Ref ID\"] = ch_20.Field.str.split(pat=\".\", expand=True)[0]\n",
        "ch_20 = ch_20.drop(columns=[\"Field\"])\n",
        "ch_21[\"Ref ID\"] = ch_21.Field.str.split(pat=\".\", expand=True)[0]\n",
        "ch_21 = ch_21.drop(columns=[\"Field\"])"
      ]
    },
    {
      "cell_type": "code",
      "execution_count": null,
      "metadata": {
        "id": "1oBXg0Qi2CVP"
      },
      "outputs": [],
      "source": [
        "ch_20 = ch_20.drop_duplicates(subset='Ref ID', keep=\"first\")\n",
        "ch_21 = ch_21.drop_duplicates(subset='Ref ID', keep=\"first\")\n",
        "ch13_18 = ch13_18.drop_duplicates(subset='Ref ID', keep=\"first\")\n",
        "ch_20 = ch_20[ch_20[\"College Name\"].notna()]\n",
        "ch_21 = ch_21[ch_21[\"College Name\"].notna()]\n",
        "ch13_18 = ch13_18[ch13_18[\"College Name\"].notna()]\n",
        "ch_20 = ch_20[ch_20[\"Ref ID\"].notna()]\n",
        "ch_21 = ch_21[ch_21[\"Ref ID\"].notna()]\n",
        "ch13_18 = ch13_18[ch13_18[\"Ref ID\"].notna()]"
      ]
    },
    {
      "cell_type": "code",
      "execution_count": null,
      "metadata": {
        "id": "aOrjDcUS8tb3"
      },
      "outputs": [],
      "source": [
        "drop_columns=[\"Enrollment Begin\", \"Enrollment End\", \"Enrollment Status\", \n",
        "              \"Record Found Y/N\", \"Class Level\", \"Graduated?\", \"Graduation Date\", \n",
        "              \"2-year / 4-year\", \"Public / Private\", \"College Sequence\", \n",
        "              \"College Code/Branch\"]\n",
        "ch_20 = ch_20.drop(columns=drop_columns)\n",
        "ch_20[\"Period\"] = ch_20[\"Period\"].astype(float).astype(int)\n",
        "ch_21 = ch_21.drop(columns=drop_columns)\n",
        "ch_21[\"Period\"] = ch_21[\"Period\"].astype(float).astype(int)\n",
        "ch13_18 = ch13_18.drop(columns=drop_columns)\n",
        "ch13_18[\"Period\"] = ch13_18[\"Period\"].astype(float).astype(int)\n",
        "ch13_18[\"Ref ID\"] = ch13_18[\"Ref ID\"].astype(float).astype(int)"
      ]
    },
    {
      "cell_type": "code",
      "execution_count": null,
      "metadata": {
        "id": "SjsnfSAJL9xR"
      },
      "outputs": [],
      "source": [
        "clearing_house = pd.concat([ch13_18, ch_20, ch_21], axis=0)"
      ]
    },
    {
      "cell_type": "code",
      "execution_count": null,
      "metadata": {
        "id": "l5gek8EAT1Tu"
      },
      "outputs": [],
      "source": [
        "ch_replace = {\n",
        "  \"UNDERGADUATE\": \"\",\n",
        "  \"GRADUATE\": \"\",\n",
        "  \"- GRADS\" : \"\",\n",
        "  \"- GRAD SCHOOL\": \"\",\n",
        "  \"GRAD\": \"\",\n",
        "  \"COLLEGE OF MEDICINE-AECOM-GRAD\": \"\",\n",
        "  \"COLLEGE OF MEDICINE\": \"\",\n",
        "  \"- FRESNO\": \"\",\n",
        "  \"-DOCTORAL\": \"\",\n",
        "  \"-ORANGE\": \"\",\n",
        "  \"- PUEBLO\": \"\",\n",
        "  \"- BROOKLYN\": \"\",\n",
        "  \"- INTEGRATED HEALTH SCIENCES\": \"\",\n",
        "  \"HEALTH SCIENCES CENTER\": \"\", \n",
        "  \"- HEALTH SCIENCES\": \"\",\n",
        "  \"- HEALTH\": \"\",\n",
        "  \"- KUNSHAN\": \"\",\n",
        "  \"- LAW SCHOOL\": \"\", \n",
        "  \"-UNDERGRADS\": \"\", \n",
        "  \"-TRADITIONAL\": \"\",\n",
        "  \"- BOZEMAN\": \"\",\n",
        "  \"- MAIN\": \"\",\n",
        "  \"- STILLWATER/TULSA\": \"\",\n",
        "  \" - PLEASANTVILLE\": \"\",\n",
        "  \"TEACHERS COLLEGE\": \"\",\n",
        "  \"IN HUNTSVILLE\": \"\",\n",
        "  \"- COLORADO\": \"\",\n",
        "  \"- (NON-MED)\": \"\",\n",
        "  \" - LAW/SPCS\": \"\", \n",
        "  \"-BRANCH 81\": \"\",\n",
        "  \"-DURAM\": \"\",\n",
        "  \"-SEMESTERS\": \"\",\n",
        "  \"- DEGREE SEEKING\": \"\",\n",
        "  \"- JESUIT SCHOOL OF THEOLOGY\": \"\",\n",
        "  \"-DARTMOUTH\": \" - DARTMOUTH\",\n",
        "  \"-RENO\": \" - RENO\",\n",
        "  \" DENVER\": \"DENVER\",\n",
        "  \"-TWIN CITIES\": \" - TWIN CITIES\",\n",
        "  \"-DAVIS\": \" - DAVIS\",\n",
        "  \"-COLLEGE PARK\": \" - COLLEGE PARK\",\n",
        "  \"-CHAPEL HILL\": \" - CHAPEL HILL\",\n",
        "  \"-GREENSBORO\": \" - GREENSBORO\",\n",
        "  \"-WILMINGTON\": \" - WILMINGTON\",\n",
        "  \"-LOS ANGELES\": \" - LOS ANGELES\",\n",
        "  \"-BERKLEY\": \" - BERKLEY\",\n",
        "  \"-SAN FRANCISCO\": \" - SAN FRANCISCO\",\n",
        "  \"-SANTA CRUZ\": \" - SANTA CRUZ\",\n",
        "  \"-SAN DIEGO\": \" - SAN DIEGO\",\n",
        "  \"-SANTA BARBARA\": \" - SANTA BARBARA\",\n",
        "  \"BAYLOR COLLEGE OF MEDICINE\": \"BAYLOR UNIVERSITY\",\n",
        "  \"PENN STATE-HERSHEY PARK MED CTR\": \"PENNSYLVANIA STATE UNIVERSITY\",\n",
        "  \"ST JOHN FISHER COLLEGE\": \"ST JOHN FISHER COLLEGE\"\n",
        "}\n",
        "\n",
        "ch_search_replace = {\n",
        "    \"HARVARD\": \"HARVARD UNIVERSITY\",\n",
        "    \"JOHNS HOPKINS\": \"JOHNS HOPKINS UNIVERSITY\",\n",
        "    \"LOUISIANA STATE\": \"LOUISIANA STATE UNIVERSITY\",\n",
        "    \"PURDUE\": \"PURDUE UNIVERSITY\",\n",
        "    \"STONY BROOK\": \"STONY BROOK UNIVERSITY\",\n",
        "    \"BINGHAMTON\": \"BINGHAMTON UNIVERSITY\",\n",
        "    \"BUFFALO\" : \"UNIVERSITY AT BUFFALO\",\n",
        "    \"ALBANY\": \"UNIVERSITY AT ALBANY\",\n",
        "    \"TEXAS A&M\": \"TEXAS A&M UNIVERSITY\",\n",
        "    \"OHIO STATE\": \"OHIO STATE UNIVERSITY\",\n",
        "    \"UNIVERSITY OF ALABAMA\": \"UNIVERSITY OF ALABAMA\",\n",
        "    \"UNIVERSITY OF ARKANSAS\": \"UNIVERSITY OF ARKANSAS\",\n",
        "    \"UNIVERSITY OF MISSOURI\": \"UNIVERSITY OF MISSOURI\",\n",
        "    \"UNIVERSITY OF ROCHESTER\": \"UNIVERSITY OF ROCHESTER\",\n",
        "    \"UNIVERSITY OF TENNESSEE\": \"UNIVERSITY OF TENNESSEE\",\n",
        "    \"WASHINGTON UNIVERSITY\": \"WASHINGTON UNIVERSITY IN ST. LOUIS\",\n",
        "    \"WAKE FOREST UNIVERSITY\": \"WAKE FOREST UNIVERSITY\",\n",
        "    \"UNIVERSITY OF MICHIGAN\": \"UNIVERSITY OF MICHIGAN - ANN ARBOR\",\n",
        "    \"YALE\": \"YALE UNIVERSITY\",\n",
        "    \"BAYLOR\": \"BAYLOR UNIVERSITY\",\n",
        "    \"RUTGERS\": \"RUTGERS UNIVERSITY\",\n",
        "    \"DUKE\" : \"DUKE UNIVERSITY\",\n",
        "    \"SOUTHERN NEW HAMPSHIRE\": \"SOUTHERN NEW HAMPSHIRE UNIVERSITY\"\n",
        "}\n",
        "\n",
        "rank_replace = {\n",
        "    \"--Oxford\":  \"\",\n",
        "    \"--St.Louis\": \"\",\n",
        "    \"--West Lafayette\": \"\",\n",
        "    \"--New Brunswick\": \"\",\n",
        "    \"--Columbus\": \"\",\n",
        "    \"--Newark\": \"\",\n",
        "    \"Univ. \": \"UNIVERSITY \",\n",
        "    \"U. \": \"UNIVERSITY \",\n",
        "    \"Inst. \": \"INSTITUTE \",\n",
        "    \"CUNY--City College\": \"CUNY CITY COLLEGE\",\n",
        "    \"Indiana University--Bloomington\": 'INDIANA UNIVERSITY BLOOMINGTON',\n",
        "    \"Louisiana State University--Baton Rouge\": \"LOUISIANA STATE UNIVERSITY\",\n",
        "    \"Stony Brook--SUNY\" : \"STONY BROOK UNIVERSITY\",\n",
        "    \"University at Albany--SUNY\": \"UNIVERSITY AT ALBANY\",\n",
        "    \"University at Buffalo--SUNY\": \"UNIVERSITY AT BUFFALO\",\n",
        "    \"Binghamton University--SUNY\": \"BINGHAMTON UNIVERSITY\",\n",
        "    \"--Manoa\": \" AT MANOA\",\n",
        "    \"--Hilo\": \" AT HILO\",\n",
        "    \"--Chicago\": \" AT CHICAGO\",\n",
        "    \"--Amherst\": \" AT AMHERST\",\n",
        "    \"--Omaha\": \" AT OMAHA\",\n",
        "    \"--Boston\": \" BOSTON\",\n",
        "    \"--Lowell\": \" LOWELL\",\n",
        "    \"--Urbana-Champaign\": \" @ URBANA\",\n",
        "    \"--Las Vegas\": \" LAS VEGAS\",\n",
        "    \"--\": \" - \"\n",
        "}"
      ]
    },
    {
      "cell_type": "code",
      "execution_count": null,
      "metadata": {
        "colab": {
          "base_uri": "https://localhost:8080/"
        },
        "id": "n0E8_dkFMBH2",
        "outputId": "4a97bacc-4289-4f18-d2cd-08ee36ed3891"
      },
      "outputs": [],
      "source": [
        "rankings[\"Institution\"] = rankings[\"Institution\"].str.replace(r\"\\(.*\\)\",\"\")\n",
        "for key, value in rank_replace.items():\n",
        "  rankings[\"Institution\"] = rankings[\"Institution\"].str.replace(key,value)\n",
        "rankings[\"Institution\"] = rankings[\"Institution\"].str.upper()\n",
        "rankings[\"Institution\"] = rankings[\"Institution\"].str.strip()\n",
        "\n",
        "for key, value in ch_search_replace.items():\n",
        "  clearing_house = clearing_house.applymap(lambda x: value if key in str(x) else x)\n",
        "\n",
        "for key, value in ch_replace.items(): \n",
        "  clearing_house[\"College Name\"] = clearing_house[\"College Name\"].str.replace(key, value)\n",
        "clearing_house[\"College Name\"] = clearing_house[\"College Name\"].str.strip()\n",
        "clearing_house.loc[(clearing_house[\"College Name\"] == \"WASHINGTON UNIVERSITY IN ST. LOUIS\") & (clearing_house[\"College State\"] == \"DC\"), \"College Name\"] = \"GEORGE WASHINGTON UNIVERSITY\"\n",
        "\n",
        "rank, college_list = [], rankings['Institution'].tolist()\n",
        "remain = []\n",
        "for college in clearing_house[\"College Name\"]:\n",
        "  if college in college_list:\n",
        "    rank.append(rankings.loc[rankings['Institution'] == college, '2022 Rank'].values[0])\n",
        "  else:\n",
        "    rank.append(300)\n",
        "clearing_house[\"Rank Enrolled\"] = rank\n",
        "clearing_house[\"Rank Difference\"] = clearing_house[\"Rank Enrolled\"] - 34\n",
        "clearing_house[\"Search Date\"] = clearing_house[\"Search Date\"].apply(lambda x: datetime.date(int(x[:4]), int(x[4:6]), int(x[6:8])))\n",
        "clearing_house = clearing_house.set_index('Ref ID')"
      ]
    },
    {
      "cell_type": "code",
      "execution_count": null,
      "metadata": {
        "id": "4X05V-rpk6wV"
      },
      "outputs": [],
      "source": [
        "clearing_house.to_excel(\"CH_CLEAN.xlsx\")"
      ]
    },
    {
      "cell_type": "markdown",
      "metadata": {},
      "source": [
        "# Data Preprocessing - application data"
      ]
    },
    {
      "cell_type": "code",
      "execution_count": null,
      "metadata": {
        "id": "pPWPlndeoz5K"
      },
      "outputs": [],
      "source": [
        "admissions = pd.read_excel(\"Capstone Dataset 20210608-183000.xlsx\")\n",
        "admissions = admissions.drop_duplicates(subset='Ref ID', keep=\"first\")\n",
        "admissions = admissions[admissions[\"Decision 1\"].notna()]"
      ]
    },
    {
      "cell_type": "code",
      "execution_count": null,
      "metadata": {
        "colab": {
          "base_uri": "https://localhost:8080/"
        },
        "id": "UDEK7gMv9ObG",
        "outputId": "a96261c6-26b0-492d-b898-26f607a6b1b5"
      },
      "outputs": [],
      "source": [
        "admissions[\"Decision 1\"] = admissions[\"Decision 1\"].apply(lambda x: str(x).ljust(len(str(x))+1))\n",
        "admissions[\"Decision 2\"] = admissions[\"Decision 2\"].apply(lambda x: str(x).ljust(len(str(x))+1))\n",
        "admissions[\"Decision 3\"] = admissions[\"Decision 3\"].apply(lambda x: str(x).ljust(len(str(x))+1))\n",
        "decision_concat = admissions.loc[:, [\"Decision 1\",\"Decision 2\", \"Decision 3\"]].fillna('').sum(axis=1)\n",
        "perms = sorted(list(set(decision_concat)), key=len)\n",
        "admissions[\"Decision Type\"] = decision_concat.apply(lambda x: perms.index(x) + 1)\n",
        "perms\n",
        "                                                    "
      ]
    },
    {
      "cell_type": "code",
      "execution_count": null,
      "metadata": {
        "colab": {
          "base_uri": "https://localhost:8080/"
        },
        "id": "Iv1nxx_Poxmg",
        "outputId": "aed5897c-96fc-49a2-c6eb-635912311c22"
      },
      "outputs": [],
      "source": [
        "admissions['Institution 1 Name'] = admissions['Institution 1 Name'].fillna('').str.upper()\n",
        "admissions['Institution 2 Name'] = admissions['Institution 2 Name'].fillna('').str.upper()\n",
        "admissions['Institution 3 Name'] = admissions['Institution 3 Name'].fillna('').str.upper()\n",
        "admissions['Institution 4 Name'] = admissions['Institution 4 Name'].fillna('').str.upper()\n",
        "\n",
        "for key, value in ch_search_replace.items():\n",
        "  admissions = admissions.applymap(lambda x: value if key in str(x) else x)\n",
        "\n",
        "for key, value in ch_replace.items(): \n",
        "  admissions['Institution 1 Name'] = admissions['Institution 1 Name'].str.replace(key, value)\n",
        "  admissions['Institution 2 Name'] = admissions['Institution 2 Name'].str.replace(key, value)\n",
        "  admissions['Institution 3 Name'] = admissions['Institution 3 Name'].str.replace(key, value)\n",
        "  admissions['Institution 4 Name'] = admissions['Institution 4 Name'].str.replace(key, value)\n",
        "\n",
        "admissions['Institution 1 Name'] = admissions['Institution 1 Name'].str.strip()\n",
        "admissions['Institution 2 Name'] = admissions['Institution 2 Name'].str.strip()\n",
        "admissions['Institution 3 Name'] = admissions['Institution 3 Name'].str.strip()\n",
        "admissions['Institution 4 Name'] = admissions['Institution 4 Name'].str.strip()\n",
        "\n",
        "cats = ['Institution 1 Name', 'Institution 2 Name', 'Institution 3 Name', 'Institution 4 Name']\n",
        "college_list = rankings['Institution'].tolist()\n",
        "for col in cats:\n",
        "  rank = []\n",
        "  for college in admissions[col]:\n",
        "    if college in college_list:\n",
        "      rank.append(rankings.loc[rankings['Institution'] == college, '2022 Rank'].values[0])\n",
        "    elif college == \"\":\n",
        "      rank.append(\"\")\n",
        "    else:\n",
        "      rank.append(\"Not Available\")\n",
        "  admissions[col.replace(\"Name\", \"Rank\")] = rank\n",
        "admissions = admissions.set_index(\"Ref ID\")"
      ]
    },
    {
      "cell_type": "code",
      "execution_count": null,
      "metadata": {
        "id": "P5n2cA8k2ASY"
      },
      "outputs": [],
      "source": [
        "admissions.to_excel(\"Admissions_CLEAN.xlsx\")"
      ]
    },
    {
      "cell_type": "markdown",
      "metadata": {},
      "source": [
        "# Statistical Tests"
      ]
    },
    {
      "cell_type": "code",
      "execution_count": null,
      "metadata": {
        "colab": {
          "base_uri": "https://localhost:8080/",
          "height": 801
        },
        "id": "humoMqqSy28r",
        "outputId": "f9622272-2b86-4811-902f-e57ea79db022"
      },
      "outputs": [],
      "source": [
        "dec_type = pd.read_excel(\"Decision_Type.xlsx\", index_col=[0])\n",
        "dec_type = dec_type.rename(columns={\"Decision 1\": \"D1\", \"Decision 2\": \"D2\", \"Decision 3\": \"D3\", \"UR Decision\": \"URD\", \"Applicant Decision\": \"AD\"})\n",
        "dec_type.index = dec_type.index.rename(\"Index\")\n",
        "dec_type[\"URDAD\"] = dec_type[\"URD\"] + dec_type[\"AD\"] \n",
        "dec_int = list(set(dec_type[\"URD\"] + dec_type[\"AD\"] ))\n",
        "dec_type[\"Decision Final\"] = dec_type[\"URDAD\"].apply(lambda x: dec_int.index(x) + 1)\n",
        "admissions[\"Decision Final\"] = admissions[\"Decision Type\"].apply(lambda x: dec_type[dec_type.index == x][\"Decision Final\"].iloc[0])\n",
        "dec_type"
      ]
    },
    {
      "cell_type": "code",
      "execution_count": null,
      "metadata": {
        "colab": {
          "base_uri": "https://localhost:8080/"
        },
        "id": "S1uwnbylJGTM",
        "outputId": "1cad0562-3a8b-41c9-83eb-ccaec651a1b2"
      },
      "outputs": [],
      "source": [
        "merged_df = admissions.merge(clearing_house, how=\"inner\", on=\"Ref ID\")\n",
        "merged_df.columns"
      ]
    },
    {
      "cell_type": "code",
      "execution_count": null,
      "metadata": {
        "colab": {
          "base_uri": "https://localhost:8080/",
          "height": 689
        },
        "id": "om3n65vU7cfK",
        "outputId": "8bbc84d4-2cee-423e-9329-b3cc19d6aaab"
      },
      "outputs": [],
      "source": [
        "import seaborn as sns\n",
        "sns.set(rc={'figure.figsize':(8.7,8.27)})\n",
        "sns.set(style=\"darkgrid\")\n",
        "fig, ((ax1), (ax3)) = plt.subplots(2,1)\n",
        "sns.boxplot(merged_df[merged_df[\"Decision Final\"]==5][\"Rank Difference\"], ax=ax1, palette=\"Set2\")\n",
        "ax1.set_title(\"RANK DIFFERENCE OF THOSE DENIED BY UR\")\n",
        "\n",
        "sns.boxplot(merged_df[merged_df[\"Decision Final\"]==6][\"Rank Difference\"], ax=ax3, palette=\"Set2\")\n",
        "ax3.set_title(\"RANK DIFFERENCE OF THOSE WHO DIDNT ACCEPT\")\n",
        "fig.tight_layout()\n",
        "fig.show()"
      ]
    },
    {
      "cell_type": "code",
      "execution_count": null,
      "metadata": {
        "colab": {
          "base_uri": "https://localhost:8080/",
          "height": 759
        },
        "id": "WidL5cR2bxaT",
        "outputId": "9a565449-2977-46a6-f056-6f167f9dfda5"
      },
      "outputs": [],
      "source": [
        "import seaborn as sns\n",
        "sns.set(rc={'figure.figsize':(15.7,8.27)})\n",
        "sns.set(style=\"darkgrid\")\n",
        "fig, ((ax1, ax2), (ax3, ax4)) = plt.subplots(2,2)\n",
        "sns.boxplot(merged_df[merged_df[\"Decision Final\"]==5][\"Rank Difference\"], ax=ax1, palette=\"Set2\")\n",
        "ax1.set_title(\"RANK DIFFERENCE OF THOSE DENIED BY UR\")\n",
        "sns.barplot(merged_df[merged_df[\"Decision Final\"]==5][\"College Name\"].value_counts().iloc[:10], merged_df[merged_df[\"Decision Final\"]==5][\"College Name\"].value_counts().iloc[:10].index, ax=ax2)\n",
        "ax2.set_title(\"MOST COMMON ENROLLED OF THOSE DENIED BY UR\")\n",
        "\n",
        "sns.boxplot(merged_df[merged_df[\"Decision Final\"]==6][\"Rank Difference\"], ax=ax3, palette=\"Set2\")\n",
        "ax3.set_title(\"RANK DIFFERENCE OF THOSE WHO DIDNT ACCEPT\")\n",
        "sns.barplot(merged_df[merged_df[\"Decision Final\"]==6][\"College Name\"].value_counts().iloc[:10],merged_df[merged_df[\"Decision Final\"]==6][\"College Name\"].value_counts().iloc[:10].index, ax=ax4)\n",
        "ax4.set_title(\"MOST COMMON ENROLLED OF THOSE WHO DIDNT ACCEPT\")\n",
        "fig.tight_layout()\n",
        "fig.show()"
      ]
    },
    {
      "cell_type": "code",
      "execution_count": null,
      "metadata": {
        "colab": {
          "base_uri": "https://localhost:8080/"
        },
        "id": "ZVBg-5Rn6ZUL",
        "outputId": "eaf11ce1-e5be-42bf-ee7d-72c38057b29b"
      },
      "outputs": [],
      "source": [
        "merged_df[merged_df[\"Decision Final\"]==5][\"Rank Difference\"].median()"
      ]
    },
    {
      "cell_type": "code",
      "execution_count": null,
      "metadata": {
        "colab": {
          "base_uri": "https://localhost:8080/",
          "height": 689
        },
        "id": "cN_gP9ghSuMk",
        "outputId": "8ba2ef82-83e1-4d60-e605-89675bdd719e"
      },
      "outputs": [],
      "source": [
        "import seaborn as sns\n",
        "sns.set(rc={'figure.figsize':(8.7,8.27)})\n",
        "sns.set(style=\"darkgrid\")\n",
        "fig, ((ax2), (ax4)) = plt.subplots(2,1)\n",
        "merged_df[\"GPA AVG\"] = merged_df.loc[:, [\"Institution 1 GPA (4.0 Scale)\",\"Institution 2 GPA (4.0 Scale)\",\"Institution 3 GPA (4.0 Scale)\",\"Institution 4 GPA (4.0 Scale)\"]].mean(axis=1,skipna=True)\n",
        "sns.boxplot(merged_df[merged_df[\"Decision Final\"]==5][\"GPA AVG\"], ax=ax2, palette=\"Set1\")\n",
        "ax2.set_title(\"GPA OF THOSE DENIED BY UR\")\n",
        "ax2.set_xlim(2.25,4)\n",
        "\n",
        "sns.boxplot(merged_df[merged_df[\"Decision Final\"]==6][\"GPA AVG\"], ax=ax4, palette=\"Set1\")\n",
        "ax4.set_title(\"GPA OF THOSE WHO DIDN'T ACCEPT\")\n",
        "ax4.set_xlim(2.25,4)\n",
        "fig.tight_layout()\n",
        "fig.show()"
      ]
    },
    {
      "cell_type": "code",
      "execution_count": null,
      "metadata": {
        "colab": {
          "base_uri": "https://localhost:8080/"
        },
        "id": "_JMQZfQPX1AS",
        "outputId": "3a9baf0e-53be-44c7-bc42-75944a17c231"
      },
      "outputs": [],
      "source": [
        "merged_df[merged_df[\"Decision Final\"]==3][\"GPA AVG\"]"
      ]
    },
    {
      "cell_type": "code",
      "execution_count": null,
      "metadata": {
        "colab": {
          "base_uri": "https://localhost:8080/"
        },
        "id": "P6EVhw_RQHWr",
        "outputId": "58e8f296-abe6-409f-b29d-07b9f4a4ecbf"
      },
      "outputs": [],
      "source": [
        "from scipy.stats import ttest_ind\n",
        "ttest_ind(merged_df[merged_df[\"Decision Final\"]==3][\"GRE Quantitative Percentile\"].dropna(), merged_df[merged_df[\"Decision Final\"]==6][\"GRE Quantitative Percentile\"].dropna())"
      ]
    },
    {
      "cell_type": "code",
      "execution_count": null,
      "metadata": {
        "colab": {
          "base_uri": "https://localhost:8080/"
        },
        "id": "6pCDPWCVA9-5",
        "outputId": "185b0fba-e187-4810-b6e6-651f8d03a981"
      },
      "outputs": [],
      "source": [
        "merged_df.loc[:, [\"Institution 1 Name\",\"Institution 2 Name\",\"Institution 3 Name\",\"Institution 4 Name\"]][merged_df[\"Decision Final\"]==5].stack().value_counts().iloc[:10]"
      ]
    },
    {
      "cell_type": "code",
      "execution_count": null,
      "metadata": {
        "colab": {
          "base_uri": "https://localhost:8080/",
          "height": 794
        },
        "id": "-YlIE7O8TQCA",
        "outputId": "fa39a22a-3344-4f8d-f6fb-e2daed44b552"
      },
      "outputs": [],
      "source": [
        "sns.set(rc={'figure.figsize':(15.7,8.27)})\n",
        "sns.set(style=\"darkgrid\")\n",
        "fig, ((ax1, ax2), (ax3, ax4)) = plt.subplots(2,2)\n",
        "merged_df[\"Rank AVG\"] = merged_df.loc[:, [\"Institution 1 Rank\",\"Institution 2 Rank\",\"Institution 3 Rank\",\"Institution 4 Rank\"]].replace(\"Not Available\", np.nan).mean(axis=1,skipna=True)\n",
        "sns.boxplot(merged_df[merged_df[\"Decision Final\"]==5][\"Rank AVG\"], ax=ax1, palette=\"Set2\")\n",
        "ax1.set_title(\"PREVIOUS RANK OF THOSE DENIED BY UR\")\n",
        "ax1.set_xlim(0,175)\n",
        "sns.barplot(merged_df.loc[:, [\"Institution 1 Name\",\"Institution 2 Name\",\"Institution 3 Name\",\"Institution 4 Name\"]][merged_df[\"Decision Final\"]==5].stack().value_counts().iloc[1:11], merged_df.loc[:, [\"Institution 1 Name\",\"Institution 2 Name\",\"Institution 3 Name\",\"Institution 4 Name\"]][merged_df[\"Decision Final\"]==5].stack().value_counts().iloc[1:11].index, ax=ax2)\n",
        "ax2.set_title(\"PREVIOUS SCHOOLS OF THOSE DENIED BY UR\")\n",
        "\n",
        "sns.boxplot(merged_df[merged_df[\"Decision Final\"]==6][\"Rank AVG\"], ax=ax3, palette=\"Set2\")\n",
        "ax3.set_title(\"PREVIOUS RANK OF THOSE WHO DIDNT ACCEPT\")\n",
        "ax3.set_xlim(0,175)\n",
        "sns.barplot(merged_df.loc[:, [\"Institution 1 Name\",\"Institution 2 Name\",\"Institution 3 Name\",\"Institution 4 Name\"]][merged_df[\"Decision Final\"]==6].stack().value_counts().iloc[1:11], merged_df.loc[:, [\"Institution 1 Name\",\"Institution 2 Name\",\"Institution 3 Name\",\"Institution 4 Name\"]][merged_df[\"Decision Final\"]==6].stack().value_counts().iloc[1:11].index, ax=ax4)\n",
        "ax4.set_title(\"PREVIOUS SCHOOLS OF THOSE WHO DIDN'T ACCEPT UR\")\n",
        "fig.tight_layout()\n",
        "fig.show()"
      ]
    },
    {
      "cell_type": "code",
      "execution_count": null,
      "metadata": {
        "colab": {
          "base_uri": "https://localhost:8080/"
        },
        "id": "gaTaRl1kbxY4",
        "outputId": "33e9ca1c-df2a-4a54-c86e-d1bdbf022bd0"
      },
      "outputs": [],
      "source": [
        "ttest_ind(merged_df[merged_df[\"Decision Final\"]==6][\"GRE Quantitative Percentile\"].dropna(), merged_df[merged_df[\"Decision Final\"]==1][\"GRE Quantitative Percentile\"].dropna())"
      ]
    },
    {
      "cell_type": "code",
      "execution_count": null,
      "metadata": {
        "colab": {
          "base_uri": "https://localhost:8080/",
          "height": 828
        },
        "id": "fwMFD1-pZfZi",
        "outputId": "3ac03f7c-e8ac-49cc-8e0e-30838ed5b72a"
      },
      "outputs": [],
      "source": [
        "sns.set(rc={'figure.figsize':(11.7,8.27)})\n",
        "sns.set(style=\"darkgrid\")\n",
        "fig, ((ax1, ax2), (ax3, ax4), (ax5, ax6)) = plt.subplots(3,2)\n",
        "sns.boxplot(merged_df[merged_df[\"Decision Final\"]==5][\"GPA AVG\"], ax=ax1, palette=\"Set1\")\n",
        "ax1.set_title(\"GPA OF THOSE DENIED BY UR\")\n",
        "ax1.set_xlim(2.7,4)\n",
        "sns.boxplot(merged_df[merged_df[\"Decision Final\"]==5][\"GRE Quantitative Percentile\"], ax=ax2, palette=\"Set2\")\n",
        "ax2.set_title(\"GRE OF THOSE DENIED BY UR\")\n",
        "ax2.set_xlim(80,100)\n",
        "\n",
        "sns.boxplot(merged_df[merged_df[\"Decision Final\"]==1][\"GPA AVG\"], ax=ax3, palette=\"Set1\")\n",
        "ax3.set_title(\"GPA OF THOSE WHO ACCEPTED\")\n",
        "ax3.set_xlim(2.7,4)\n",
        "sns.boxplot(merged_df[merged_df[\"Decision Final\"]==1][\"GRE Quantitative Percentile\"], ax=ax4, palette=\"Set2\")\n",
        "ax4.set_title(\"GRE OF THOSE WHO ACCEPTED\")\n",
        "ax4.set_xlim(80,100)\n",
        "\n",
        "sns.boxplot(merged_df[merged_df[\"Decision Final\"]==6][\"GPA AVG\"], ax=ax5, palette=\"Set1\")\n",
        "ax5.set_title(\"GPA OF THOSE WHO DIDN'T ACCEPT\")\n",
        "ax5.set_xlim(2.7,4)\n",
        "sns.boxplot(merged_df[merged_df[\"Decision Final\"]==6][\"GRE Quantitative Percentile\"], ax=ax6, palette=\"Set2\")\n",
        "ax6.set_title(\"GRE OF THOSE WHO DIDN'T ACCEPT\")\n",
        "ax6.set_xlim(80,100)\n",
        "fig.tight_layout()\n",
        "fig.show()"
      ]
    },
    {
      "cell_type": "code",
      "execution_count": null,
      "metadata": {
        "colab": {
          "base_uri": "https://localhost:8080/"
        },
        "id": "CbJ4-jYPMlEx",
        "outputId": "f0152c9b-9778-470a-cef3-f749b1243205"
      },
      "outputs": [],
      "source": [
        "merged_df[merged_df[\"Decision Final\"]==1][\"GPA AVG\"]"
      ]
    },
    {
      "cell_type": "code",
      "execution_count": null,
      "metadata": {
        "colab": {
          "base_uri": "https://localhost:8080/",
          "height": 674
        },
        "id": "EETDkiwhsXKB",
        "outputId": "9d2a9a1f-a5b9-4f77-a629-e0166b0d9c6e"
      },
      "outputs": [],
      "source": [
        "import numpy as np\n",
        "import matplotlib.pylab as pl\n",
        "import matplotlib.gridspec as gridspec\n",
        "sns.set(rc={'figure.figsize':(12.7,8.27)})\n",
        "sns.set(style=\"darkgrid\")\n",
        "# Create 2x2 sub plots\n",
        "gs = gridspec.GridSpec(2, 2)\n",
        "pl.figure()\n",
        "\n",
        "ax = pl.subplot(gs[0]) # row 0, col 0\n",
        "ax.set_title(\"GPA OF THOSE WHO ACCEPTED\")\n",
        "ax.set_xlim(3,4)\n",
        "sns.boxplot(merged_df[merged_df[\"Decision Final\"]==2][\"GPA AVG\"], ax=ax, palette=\"Set3\")\n",
        "\n",
        "ax = pl.subplot(gs[0, 1]) # row 0, col 1\n",
        "ax.set_title(\"GRE OF THOSE WHO ACCEPTED\")\n",
        "ax.set_xlim(80,100)\n",
        "sns.boxplot(merged_df[merged_df[\"Decision Final\"]==2][\"GRE Quantitative Percentile\"], ax=ax, palette=\"Set1\")\n",
        "\n",
        "ax = pl.subplot(gs[1, :]) # row 1, span all columns\n",
        "ax.set_title(\"PREVIOUS RANK OF THOSE WHO ACCEPTED\")\n",
        "ax.set_xlim(0,50)\n",
        "sns.boxplot(merged_df[merged_df[\"Decision Final\"]==2][\"Rank AVG\"], ax=ax, palette=\"Set1\")\n",
        "\n",
        "# fig, ((ax1, ax2), (ax3, ax4)) = plt.subplots(2,2)\n",
        "# sns.boxplot(merged_df[merged_df[\"Decision Final\"]==6][\"Rank AVG\"], ax=ax1, palette=\"Set2\")\n",
        "# ax1.set_title(\"PREVIOUS RANK OF THOSE WHO ACCEPTED\")\n",
        "# ax1.set_xlim(0,175)\n",
        "# sns.boxplot(merged_df[merged_df[\"Decision Final\"]==6][\"GRE Quantitative Percentile\"], ax=ax2, palette=\"Set1\")\n",
        "# ax2.set_title(\"GRE OF THOSE DENIED BY UR\")\n",
        "# ax2.set_xlim(60,100)\n",
        "\n",
        "# sns.boxplot(merged_df[merged_df[\"Decision Final\"]==5][\"Rank AVG\"], ax=ax3, palette=\"Set2\")\n",
        "# ax3.set_title(\"PREVIOUS RANK OF THOSE WHO DIDNT ACCEPT\")\n",
        "# ax3.set_xlim(0,175)\n",
        "# sns.boxplot(merged_df[merged_df[\"Decision Final\"]==5][\"GRE Quantitative Percentile\"], ax=ax4, palette=\"Set1\")\n",
        "# ax4.set_title(\"GRE OF THOSE WHO DIDN'T ACCEPT\")\n",
        "# ax4.set_xlim(60,100)\n",
        "# fig.tight_layout()\n",
        "# fig.show()"
      ]
    },
    {
      "cell_type": "code",
      "execution_count": null,
      "metadata": {
        "colab": {
          "base_uri": "https://localhost:8080/",
          "height": 754
        },
        "id": "J9Dkd7wZyxYg",
        "outputId": "b9c4da38-b106-478a-b409-41834e6ab07e"
      },
      "outputs": [],
      "source": [
        "merged_df[merged_df[\"Decision Final\"]==2]"
      ]
    },
    {
      "cell_type": "code",
      "execution_count": null,
      "metadata": {
        "colab": {
          "base_uri": "https://localhost:8080/"
        },
        "id": "n9mP5cEhBQ9r",
        "outputId": "6da4c7a2-334e-4d39-d81e-1c3050e20c11"
      },
      "outputs": [],
      "source": [
        "# calculate a 5-number summary\n",
        "from numpy import percentile\n",
        "quartiles = percentile(merged_df[\"Rank Difference\"], [25, 50, 75])\n",
        "# calculate min/max\n",
        "data_min, data_max = merged_df[\"Rank Difference\"].min(), merged_df[\"Rank Difference\"].max()\n",
        "# print 5-number summary\n",
        "print('Min: %.3f' % data_min)\n",
        "print('Q1: %.3f' % quartiles[0])\n",
        "print('Median: %.3f' % quartiles[1])\n",
        "print('Q3: %.3f' % quartiles[2])\n",
        "print('Max: %.3f' % data_max)"
      ]
    },
    {
      "cell_type": "code",
      "execution_count": null,
      "metadata": {
        "colab": {
          "base_uri": "https://localhost:8080/",
          "height": 534
        },
        "id": "WbVG3Z2LCAbQ",
        "outputId": "68ad9aea-01cd-46a1-a0a9-d960cc2c1860"
      },
      "outputs": [],
      "source": [
        "sns.histplot(merged_df['Decision Final'], bins=len(dec_int), )"
      ]
    },
    {
      "cell_type": "code",
      "execution_count": null,
      "metadata": {
        "id": "7ksWFoiiClCl"
      },
      "outputs": [],
      "source": [
        "pd.DataFrame(perms, index=range(1, 24), columns=[\"Decision Type\"]).to_excel(\"/content/drive/MyDrive/Colab Notebooks/DSC 483: Data Science Capstone/Graduate Admissions/DecisionType.xlsx\")"
      ]
    },
    {
      "cell_type": "code",
      "execution_count": null,
      "metadata": {
        "colab": {
          "base_uri": "https://localhost:8080/",
          "height": 770
        },
        "id": "M6ojHDjvC2C9",
        "outputId": "c111ce13-81f9-4aae-8e1c-e5e7aa21e169"
      },
      "outputs": [],
      "source": [
        "pd.DataFrame(perms, index=range(1, 24), columns=[\"Decision Type\"])"
      ]
    },
    {
      "cell_type": "code",
      "execution_count": null,
      "metadata": {
        "id": "Fg24ElB_JmLo"
      },
      "outputs": [],
      "source": []
    }
  ],
  "metadata": {
    "colab": {
      "collapsed_sections": [],
      "name": "Preprocessing_and_Statistical_Tests.ipynb",
      "provenance": []
    },
    "kernelspec": {
      "display_name": "Python 3",
      "name": "python3"
    },
    "language_info": {
      "name": "python"
    }
  },
  "nbformat": 4,
  "nbformat_minor": 0
}
