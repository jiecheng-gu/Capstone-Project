{
 "cells": [
  {
   "cell_type": "code",
   "execution_count": 28,
   "metadata": {},
   "outputs": [],
   "source": [
    "data = pd.read_excel(\"./Admissions_CLEAN.xlsx\")"
   ]
  },
  {
   "cell_type": "code",
   "execution_count": 29,
   "metadata": {},
   "outputs": [
    {
     "data": {
      "text/plain": [
       "Index(['Ref ID', 'Entry Term', 'Tuition Percentage', 'Decision 1',\n",
       "       'Decision 1 Confirmed Date', 'Decision 1 Released Date',\n",
       "       'Decision 1 Received Date', 'Decision 2', 'Decision 2 Confirmed Date',\n",
       "       'Decision 2 Released Date', 'Decision 2 Received Date', 'Decision 3',\n",
       "       'Decision 3 Confirmed Date', 'Decision 3 Released Date',\n",
       "       'Decision 3 Received Date', 'Sex', 'Birth State', 'Birth Country',\n",
       "       'Age at App Submission', 'Race', 'URM', 'Native Language',\n",
       "       'Have you ever failed a course?', 'Ever Placed on Academic Probation',\n",
       "       'Academic Classes Taught in English', 'Institution 1 Name',\n",
       "       'Institution 1 GPA (4.0 Scale)', 'Institution 2 Name',\n",
       "       'Institution 2 GPA (4.0 Scale)', 'Institution 2 Class Rank',\n",
       "       'Institution 3 Name', 'Institution 3 GPA (4.0 Scale)',\n",
       "       'Institution 4 Name', 'Institution 4 GPA (4.0 Scale)',\n",
       "       'GRE Verbal Percentile', 'GRE Quantitative Percentile',\n",
       "       'GRE Analytical Writing Percentile', 'TOEFL Total', 'IELTS Total',\n",
       "       'Any Relatives Listed?', 'Created', 'Submitted',\n",
       "       'Deposit Received Date', 'Deposit Due Date', 'Decision Type',\n",
       "       'Institution 1 Rank', 'Institution 2 Rank', 'Institution 3 Rank',\n",
       "       'Institution 4 Rank'],\n",
       "      dtype='object')"
      ]
     },
     "execution_count": 29,
     "metadata": {},
     "output_type": "execute_result"
    }
   ],
   "source": [
    "data.columns"
   ]
  },
  {
   "cell_type": "code",
   "execution_count": 30,
   "metadata": {},
   "outputs": [],
   "source": [
    "data = data[data[\"Decision Type\"] != 4] # delete withdraw type\n",
    "# UR decision\n",
    "# admit:1 - deny:0\n",
    "def func(x):\n",
    "    admit_number = {12, 16, 2, 6, 10, 13, 15, 17, 19, 22, 23, 7, 9, 18, 20, 11, 14, 21}\n",
    "    if x in admit_number:\n",
    "        return 1\n",
    "    else:\n",
    "        return 0  \n",
    "data[\"Admit\"] = data[\"Decision Type\"].apply(lambda x: func(x))"
   ]
  },
  {
   "cell_type": "code",
   "execution_count": 31,
   "metadata": {},
   "outputs": [],
   "source": [
    "data['created_date'] = data['Created'].apply(lambda x: x.strftime('%m-%d'))\n",
    "data['submitted_date'] = data['Submitted'].apply(lambda x: x.strftime('%m-%d'))"
   ]
  },
  {
   "cell_type": "code",
   "execution_count": 43,
   "metadata": {},
   "outputs": [],
   "source": [
    "a = data.groupby(['created_date']).size()\n",
    "b = data[data['Admit']==1].groupby(['created_date']).size()"
   ]
  },
  {
   "cell_type": "code",
   "execution_count": 44,
   "metadata": {},
   "outputs": [
    {
     "data": {
      "text/html": [
       "<div>\n",
       "<style scoped>\n",
       "    .dataframe tbody tr th:only-of-type {\n",
       "        vertical-align: middle;\n",
       "    }\n",
       "\n",
       "    .dataframe tbody tr th {\n",
       "        vertical-align: top;\n",
       "    }\n",
       "\n",
       "    .dataframe thead th {\n",
       "        text-align: right;\n",
       "    }\n",
       "</style>\n",
       "<table border=\"1\" class=\"dataframe\">\n",
       "  <thead>\n",
       "    <tr style=\"text-align: right;\">\n",
       "      <th></th>\n",
       "      <th>key_0</th>\n",
       "      <th>0_x</th>\n",
       "      <th>0_y</th>\n",
       "    </tr>\n",
       "  </thead>\n",
       "  <tbody>\n",
       "    <tr>\n",
       "      <th>0</th>\n",
       "      <td>01-01</td>\n",
       "      <td>21</td>\n",
       "      <td>11</td>\n",
       "    </tr>\n",
       "    <tr>\n",
       "      <th>1</th>\n",
       "      <td>01-02</td>\n",
       "      <td>32</td>\n",
       "      <td>15</td>\n",
       "    </tr>\n",
       "    <tr>\n",
       "      <th>2</th>\n",
       "      <td>01-03</td>\n",
       "      <td>28</td>\n",
       "      <td>10</td>\n",
       "    </tr>\n",
       "    <tr>\n",
       "      <th>3</th>\n",
       "      <td>01-04</td>\n",
       "      <td>32</td>\n",
       "      <td>9</td>\n",
       "    </tr>\n",
       "    <tr>\n",
       "      <th>4</th>\n",
       "      <td>01-05</td>\n",
       "      <td>28</td>\n",
       "      <td>8</td>\n",
       "    </tr>\n",
       "    <tr>\n",
       "      <th>...</th>\n",
       "      <td>...</td>\n",
       "      <td>...</td>\n",
       "      <td>...</td>\n",
       "    </tr>\n",
       "    <tr>\n",
       "      <th>224</th>\n",
       "      <td>12-27</td>\n",
       "      <td>29</td>\n",
       "      <td>11</td>\n",
       "    </tr>\n",
       "    <tr>\n",
       "      <th>225</th>\n",
       "      <td>12-28</td>\n",
       "      <td>30</td>\n",
       "      <td>15</td>\n",
       "    </tr>\n",
       "    <tr>\n",
       "      <th>226</th>\n",
       "      <td>12-29</td>\n",
       "      <td>28</td>\n",
       "      <td>12</td>\n",
       "    </tr>\n",
       "    <tr>\n",
       "      <th>227</th>\n",
       "      <td>12-30</td>\n",
       "      <td>32</td>\n",
       "      <td>11</td>\n",
       "    </tr>\n",
       "    <tr>\n",
       "      <th>228</th>\n",
       "      <td>12-31</td>\n",
       "      <td>20</td>\n",
       "      <td>5</td>\n",
       "    </tr>\n",
       "  </tbody>\n",
       "</table>\n",
       "<p>229 rows × 3 columns</p>\n",
       "</div>"
      ],
      "text/plain": [
       "     key_0  0_x  0_y\n",
       "0    01-01   21   11\n",
       "1    01-02   32   15\n",
       "2    01-03   28   10\n",
       "3    01-04   32    9\n",
       "4    01-05   28    8\n",
       "..     ...  ...  ...\n",
       "224  12-27   29   11\n",
       "225  12-28   30   15\n",
       "226  12-29   28   12\n",
       "227  12-30   32   11\n",
       "228  12-31   20    5\n",
       "\n",
       "[229 rows x 3 columns]"
      ]
     },
     "execution_count": 44,
     "metadata": {},
     "output_type": "execute_result"
    }
   ],
   "source": [
    "c = (a.to_frame()).merge(b.to_frame(), left_on=a.index, right_on=b.index)\n",
    "c"
   ]
  },
  {
   "cell_type": "code",
   "execution_count": 45,
   "metadata": {},
   "outputs": [
    {
     "data": {
      "text/html": [
       "<div>\n",
       "<style scoped>\n",
       "    .dataframe tbody tr th:only-of-type {\n",
       "        vertical-align: middle;\n",
       "    }\n",
       "\n",
       "    .dataframe tbody tr th {\n",
       "        vertical-align: top;\n",
       "    }\n",
       "\n",
       "    .dataframe thead th {\n",
       "        text-align: right;\n",
       "    }\n",
       "</style>\n",
       "<table border=\"1\" class=\"dataframe\">\n",
       "  <thead>\n",
       "    <tr style=\"text-align: right;\">\n",
       "      <th></th>\n",
       "      <th>key_0</th>\n",
       "      <th>0_x</th>\n",
       "      <th>0_y</th>\n",
       "      <th>percent</th>\n",
       "    </tr>\n",
       "  </thead>\n",
       "  <tbody>\n",
       "    <tr>\n",
       "      <th>0</th>\n",
       "      <td>01-01</td>\n",
       "      <td>21</td>\n",
       "      <td>11</td>\n",
       "      <td>0.523810</td>\n",
       "    </tr>\n",
       "    <tr>\n",
       "      <th>1</th>\n",
       "      <td>01-02</td>\n",
       "      <td>32</td>\n",
       "      <td>15</td>\n",
       "      <td>0.468750</td>\n",
       "    </tr>\n",
       "    <tr>\n",
       "      <th>2</th>\n",
       "      <td>01-03</td>\n",
       "      <td>28</td>\n",
       "      <td>10</td>\n",
       "      <td>0.357143</td>\n",
       "    </tr>\n",
       "    <tr>\n",
       "      <th>3</th>\n",
       "      <td>01-04</td>\n",
       "      <td>32</td>\n",
       "      <td>9</td>\n",
       "      <td>0.281250</td>\n",
       "    </tr>\n",
       "    <tr>\n",
       "      <th>4</th>\n",
       "      <td>01-05</td>\n",
       "      <td>28</td>\n",
       "      <td>8</td>\n",
       "      <td>0.285714</td>\n",
       "    </tr>\n",
       "  </tbody>\n",
       "</table>\n",
       "</div>"
      ],
      "text/plain": [
       "   key_0  0_x  0_y   percent\n",
       "0  01-01   21   11  0.523810\n",
       "1  01-02   32   15  0.468750\n",
       "2  01-03   28   10  0.357143\n",
       "3  01-04   32    9  0.281250\n",
       "4  01-05   28    8  0.285714"
      ]
     },
     "execution_count": 45,
     "metadata": {},
     "output_type": "execute_result"
    }
   ],
   "source": [
    "c['percent'] = c.apply(lambda x: x['0_y']/x['0_x'], axis=1)\n",
    "c.head()"
   ]
  },
  {
   "cell_type": "code",
   "execution_count": 47,
   "metadata": {},
   "outputs": [
    {
     "data": {
      "image/png": "[encoded data removed]",
      "text/plain": [
       "<Figure size 720x432 with 1 Axes>"
      ]
     },
     "metadata": {
      "needs_background": "light"
     },
     "output_type": "display_data"
    }
   ],
   "source": [
    "fig, ax = plt.subplots(figsize=(10,6))\n",
    "c[(c['percent'] > 0.6)&((c['key_0']>'11-01')|(c['key_0']<'02-15'))].plot(kind='bar', ax=ax, x='key_0', y='percent')\n",
    "plt.title(\"Admission Rate Based on Start Date\")\n",
    "plt.xlabel(\"Start Date\")\n",
    "plt.show()"
   ]
  },
  {
   "cell_type": "code",
   "execution_count": 36,
   "metadata": {},
   "outputs": [
    {
     "data": {
      "text/html": [
       "<div>\n",
       "<style scoped>\n",
       "    .dataframe tbody tr th:only-of-type {\n",
       "        vertical-align: middle;\n",
       "    }\n",
       "\n",
       "    .dataframe tbody tr th {\n",
       "        vertical-align: top;\n",
       "    }\n",
       "\n",
       "    .dataframe thead th {\n",
       "        text-align: right;\n",
       "    }\n",
       "</style>\n",
       "<table border=\"1\" class=\"dataframe\">\n",
       "  <thead>\n",
       "    <tr style=\"text-align: right;\">\n",
       "      <th></th>\n",
       "      <th>key_0</th>\n",
       "      <th>0_x</th>\n",
       "      <th>0_y</th>\n",
       "      <th>percent</th>\n",
       "    </tr>\n",
       "  </thead>\n",
       "  <tbody>\n",
       "    <tr>\n",
       "      <th>0</th>\n",
       "      <td>01-01</td>\n",
       "      <td>25</td>\n",
       "      <td>14</td>\n",
       "      <td>0.560000</td>\n",
       "    </tr>\n",
       "    <tr>\n",
       "      <th>1</th>\n",
       "      <td>01-02</td>\n",
       "      <td>51</td>\n",
       "      <td>14</td>\n",
       "      <td>0.274510</td>\n",
       "    </tr>\n",
       "    <tr>\n",
       "      <th>2</th>\n",
       "      <td>01-03</td>\n",
       "      <td>63</td>\n",
       "      <td>29</td>\n",
       "      <td>0.460317</td>\n",
       "    </tr>\n",
       "    <tr>\n",
       "      <th>3</th>\n",
       "      <td>01-04</td>\n",
       "      <td>166</td>\n",
       "      <td>82</td>\n",
       "      <td>0.493976</td>\n",
       "    </tr>\n",
       "    <tr>\n",
       "      <th>4</th>\n",
       "      <td>01-05</td>\n",
       "      <td>256</td>\n",
       "      <td>98</td>\n",
       "      <td>0.382812</td>\n",
       "    </tr>\n",
       "  </tbody>\n",
       "</table>\n",
       "</div>"
      ],
      "text/plain": [
       "   key_0  0_x  0_y   percent\n",
       "0  01-01   25   14  0.560000\n",
       "1  01-02   51   14  0.274510\n",
       "2  01-03   63   29  0.460317\n",
       "3  01-04  166   82  0.493976\n",
       "4  01-05  256   98  0.382812"
      ]
     },
     "execution_count": 36,
     "metadata": {},
     "output_type": "execute_result"
    }
   ],
   "source": [
    "a = data.groupby(['submitted_date']).size()\n",
    "b = data[data['Admit']==1].groupby(['submitted_date']).size()\n",
    "c = (a.to_frame()).merge(b.to_frame(), left_on=a.index, right_on=b.index)\n",
    "c['percent'] = c.apply(lambda x: x['0_y']/x['0_x'], axis=1)\n",
    "c.head()"
   ]
  },
  {
   "cell_type": "code",
   "execution_count": 41,
   "metadata": {},
   "outputs": [
    {
     "data": {
      "image/png": "[encoded data removed]",
      "text/plain": [
       "<Figure size 720x432 with 1 Axes>"
      ]
     },
     "metadata": {
      "needs_background": "light"
     },
     "output_type": "display_data"
    }
   ],
   "source": [
    "fig, ax = plt.subplots(figsize=(10,6))\n",
    "c[(c['percent'] > 0.6)&((c['key_0']>'11-01')|(c['key_0']<'02-15'))].plot(kind='bar', ax=ax, x='key_0', y='percent')\n",
    "plt.title(\"Admission Rate Based on End Dates\")\n",
    "plt.xlabel(\"End Date\")\n",
    "plt.show()"
   ]
  },
  {
   "cell_type": "code",
   "execution_count": null,
   "metadata": {},
   "outputs": [],
   "source": []
  }
 ],
 "metadata": {
  "interpreter": {
   "hash": "abdfcdbf0cc150c2b35a1d7b3b320d864d1ce2de9abec3596b0a554cf3b8aeec"
  },
  "kernelspec": {
   "display_name": "Python 3.8.0 ('.venv': venv)",
   "language": "python",
   "name": "python3"
  },
  "language_info": {
   "codemirror_mode": {
    "name": "ipython",
    "version": 3
   },
   "file_extension": ".py",
   "mimetype": "text/x-python",
   "name": "python",
   "nbconvert_exporter": "python",
   "pygments_lexer": "ipython3",
   "version": "3.8.0"
  },
  "orig_nbformat": 4
 },
 "nbformat": 4,
 "nbformat_minor": 2
}
